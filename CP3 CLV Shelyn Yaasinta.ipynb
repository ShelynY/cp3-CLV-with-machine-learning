{
 "cells": [
  {
   "cell_type": "markdown",
   "id": "83afb592",
   "metadata": {},
   "source": [
    "# CUSTOMER LIFETIME VALUE "
   ]
  },
  {
   "cell_type": "markdown",
   "id": "b8554da4",
   "metadata": {},
   "source": [
    "## Contents\n",
    "\n",
    "    1. Business Problem Understanding\n",
    "    2. Data Understanding\n",
    "    3. Data Preprocessing\n",
    "    4. Modeling\n",
    "    5. Conclusion\n",
    "    6. Recommendation\n",
    "\n"
   ]
  },
  {
   "cell_type": "markdown",
   "id": "56d5f549",
   "metadata": {},
   "source": [
    "# 1. Business Problem Understanding"
   ]
  },
  {
   "cell_type": "markdown",
   "id": "b116ef59",
   "metadata": {},
   "source": [
    "## 1.1. Background\n",
    "\n",
    "Customer lifetime value atau CLV adalah suatu ukuran seberapa berharga suatu customer terhadap perusahaan. Dari nilai tersebut, perusahhan dapat menentukan berapa keuntungan yang didapatkan dari satu penumpang dan biaya yang dikeluarkan untuk memperoleh customer baru atau mempertahankan customer lama. Angka ini cukup penting diketahui oleh suatu perusahaan jika perusahaan ingin secara efektif menargetkan pemasaran kepada pelanggan yang berharga dan bagaimana pelanggan perusahaan tersebut berubah kedepannya. \n",
    "\n",
    "Sebuah perusahaan yang bergerak di bidang asuransi mobil ingin meningkatkan pendapatan dan profitabilitasnya. Untuk mencapai tujuan ini, perusahaan melakukan evaluasi berdasarkan data pelanggan untuk menentukan aspek-aspek yang dapat berpengaruh pada peningkatan profit. Stakeholder utama dalam proyek ini adalah CEO perusahaan asuransi. CEO membutuhkan nilai CLV untuk merencanakan strategi marketing. Dengan mengetahui nilai CLV, perusahaan dapat mengidentifikasi pelanggan yang memberikan kontribusi profit tertinggi dan fokus pada retensi mereka. Strategi ini membantu mengurangi biaya akuisisi pelanggan baru dan meningkatkan efisiensi pemasaran. Dengan memahami nilai jangka panjang dari setiap pelanggan, perusahaan dapat menyusun strategi pemasaran yang lebih terarah, memaksimalkan pendapatan dari setiap pelanggan, dan akhirnya meningkatkan profitabilitas keseluruhan perusahaan.\n"
   ]
  },
  {
   "cell_type": "markdown",
   "id": "826382c1",
   "metadata": {},
   "source": [
    "## 1.2. Problem Statement\n",
    "\n",
    "CEO dari perusahaan asuransi mobil ingin meningkatkan income dengan membuat strategi marketing yang lebih tepat sasaran dan efisien. Perusahaan asuransi tersebut membutuhkan tool untuk memprediksi nilai CLV yang akurat agar dapat menyingkat waktu dan biaya yang dibutuhkan untuk marketing lebih sedikit.\n"
   ]
  },
  {
   "cell_type": "markdown",
   "id": "5692f3c4",
   "metadata": {},
   "source": [
    "## 1.3. Goal \n",
    "\n",
    "Berdasarkan permasalahan tersebut,perusahaan asuransi ini memerlukan model Machine Learning yang dapat memprediksi CLV, sehingga dapat membuat startegi pemasaran yang tepat.\n",
    "Tujuan dari proyek ini adalah untuk mengembangkan model ML prediksi CLV berdasarkan dataset yang tersedia. Model prediksi ini diharapkan dapat membantu perusahaan untuk membuat strategi pemasaran sehingga dapat meningkatkan income perusahaan.\n"
   ]
  },
  {
   "cell_type": "markdown",
   "id": "dd298964",
   "metadata": {},
   "source": [
    "## 1.4 Analytic Approach\n",
    "\n",
    "Jadi, yang perlu dilakukan adalah menganalisis data untuk dapat menemukan pola dari fitur-fitur yang ada, yang dapat membedakan satu customer dengan yang lainnya.\n",
    "\n",
    "Selanjutnya, kita akan membangun suatu model ML regresi yang akan membantu perusahaan untuk dapat memprediksi CLV dari setiap customer, sehingga akan berguna untuk menentukan aspek apa saja yang berpengaruh dalam memberikan profit kepada perusahaan dan perusahaan bisa mengambil keputusan bisnis yang tepat dari nilai CLV yang diprediksi model."
   ]
  },
  {
   "cell_type": "markdown",
   "id": "54ba8c62",
   "metadata": {},
   "source": [
    "## 1.5 Metric Evaluation\n",
    "\n",
    "Evaluasi metrik yang akan digunakan yaitu:\n",
    "\n",
    "- RMSE adalah nilai rataan akar kuadrat dari error\n",
    "- MAE adalah rataan nilai absolut dari error\n",
    "- MAPE adalah rataan nilai persentase error yang dihasilkan oleh model regresi\n",
    "\n",
    "Semakin kecil nilai RMSE, MAE, dan MAPE yang dihasilkan, berarti model semakin akurat dalam memprediksi sesuai dengan limitasi fitur yang digunakan.\n"
   ]
  },
  {
   "cell_type": "markdown",
   "id": "90fee56d",
   "metadata": {},
   "source": [
    "# 2. Data Understanding"
   ]
  },
  {
   "cell_type": "markdown",
   "id": "8d67f83c",
   "metadata": {},
   "source": [
    "\n",
    "**Attributes Information**\n",
    "\n",
    "| **Attribute** | **Data Type** | **Description** |\n",
    "| --- | --- | --- |\n",
    "| Vehicle Class             | Object    | Tipe kendaraan |\n",
    "| Coverage                  | Object    | Jenis pertanggungan polis asuransi customer |\n",
    "| Renew Offer Type          | Object    | Penawaran untuk pembaruan polis |\n",
    "| EmploymentStatus          | Object    | Status pekerjaan cutomer |\n",
    "| Marital Status            | Object    | Status pernikahan cutomer |\n",
    "| Education                 | Object    | Tingkat pendidikan customer |\n",
    "| Number of Policies        | Float     | Jumlah polis yang dimiliki customer |\n",
    "| Monthly Premium Auto      | Float     | Premi customer perbulan (USD) |\n",
    "| Total Claim Amount        | Float     | Jumlah claim customer (USD) |\n",
    "| Income                    | Float     | Pendapatan cutomer (USD) |\n",
    "| Customer Lifetime Value   | Float     | Customer Lifetime Value (Target) |"
   ]
  },
  {
   "cell_type": "code",
   "execution_count": 1,
   "id": "857a2545",
   "metadata": {},
   "outputs": [],
   "source": [
    "# Import library yang dibutuhkan untuk eksplorasi dataset\n",
    "import pandas as pd \n",
    "import numpy as np\n",
    "import matplotlib.pyplot as plt\n",
    "import seaborn as sns\n",
    "\n",
    "import warnings\n",
    "warnings.filterwarnings('ignore')"
   ]
  },
  {
   "cell_type": "code",
   "execution_count": 2,
   "id": "ab85d9ff",
   "metadata": {},
   "outputs": [
    {
     "data": {
      "text/html": [
       "<div>\n",
       "<style scoped>\n",
       "    .dataframe tbody tr th:only-of-type {\n",
       "        vertical-align: middle;\n",
       "    }\n",
       "\n",
       "    .dataframe tbody tr th {\n",
       "        vertical-align: top;\n",
       "    }\n",
       "\n",
       "    .dataframe thead th {\n",
       "        text-align: right;\n",
       "    }\n",
       "</style>\n",
       "<table border=\"1\" class=\"dataframe\">\n",
       "  <thead>\n",
       "    <tr style=\"text-align: right;\">\n",
       "      <th></th>\n",
       "      <th>Vehicle Class</th>\n",
       "      <th>Coverage</th>\n",
       "      <th>Renew Offer Type</th>\n",
       "      <th>EmploymentStatus</th>\n",
       "      <th>Marital Status</th>\n",
       "      <th>Education</th>\n",
       "      <th>Number of Policies</th>\n",
       "      <th>Monthly Premium Auto</th>\n",
       "      <th>Total Claim Amount</th>\n",
       "      <th>Income</th>\n",
       "      <th>Customer Lifetime Value</th>\n",
       "    </tr>\n",
       "  </thead>\n",
       "  <tbody>\n",
       "    <tr>\n",
       "      <th>0</th>\n",
       "      <td>Four-Door Car</td>\n",
       "      <td>Extended</td>\n",
       "      <td>Offer1</td>\n",
       "      <td>Retired</td>\n",
       "      <td>Divorced</td>\n",
       "      <td>High School or Below</td>\n",
       "      <td>2.0</td>\n",
       "      <td>90.0</td>\n",
       "      <td>571.479602</td>\n",
       "      <td>11828.0</td>\n",
       "      <td>10083.486880</td>\n",
       "    </tr>\n",
       "    <tr>\n",
       "      <th>1</th>\n",
       "      <td>Four-Door Car</td>\n",
       "      <td>Basic</td>\n",
       "      <td>Offer1</td>\n",
       "      <td>Employed</td>\n",
       "      <td>Married</td>\n",
       "      <td>College</td>\n",
       "      <td>6.0</td>\n",
       "      <td>62.0</td>\n",
       "      <td>114.514440</td>\n",
       "      <td>44762.0</td>\n",
       "      <td>4943.386117</td>\n",
       "    </tr>\n",
       "    <tr>\n",
       "      <th>2</th>\n",
       "      <td>Two-Door Car</td>\n",
       "      <td>Basic</td>\n",
       "      <td>Offer1</td>\n",
       "      <td>Retired</td>\n",
       "      <td>Married</td>\n",
       "      <td>Master</td>\n",
       "      <td>2.0</td>\n",
       "      <td>62.0</td>\n",
       "      <td>257.248789</td>\n",
       "      <td>21514.0</td>\n",
       "      <td>11981.984810</td>\n",
       "    </tr>\n",
       "    <tr>\n",
       "      <th>3</th>\n",
       "      <td>Four-Door Car</td>\n",
       "      <td>Premium</td>\n",
       "      <td>Offer3</td>\n",
       "      <td>Disabled</td>\n",
       "      <td>Married</td>\n",
       "      <td>High School or Below</td>\n",
       "      <td>1.0</td>\n",
       "      <td>116.0</td>\n",
       "      <td>556.800000</td>\n",
       "      <td>17913.0</td>\n",
       "      <td>4550.856045</td>\n",
       "    </tr>\n",
       "    <tr>\n",
       "      <th>4</th>\n",
       "      <td>Two-Door Car</td>\n",
       "      <td>Basic</td>\n",
       "      <td>Offer3</td>\n",
       "      <td>Medical Leave</td>\n",
       "      <td>Married</td>\n",
       "      <td>High School or Below</td>\n",
       "      <td>1.0</td>\n",
       "      <td>62.0</td>\n",
       "      <td>355.820799</td>\n",
       "      <td>19030.0</td>\n",
       "      <td>2372.155492</td>\n",
       "    </tr>\n",
       "  </tbody>\n",
       "</table>\n",
       "</div>"
      ],
      "text/plain": [
       "   Vehicle Class  Coverage Renew Offer Type EmploymentStatus Marital Status  \\\n",
       "0  Four-Door Car  Extended           Offer1          Retired       Divorced   \n",
       "1  Four-Door Car     Basic           Offer1         Employed        Married   \n",
       "2   Two-Door Car     Basic           Offer1          Retired        Married   \n",
       "3  Four-Door Car   Premium           Offer3         Disabled        Married   \n",
       "4   Two-Door Car     Basic           Offer3    Medical Leave        Married   \n",
       "\n",
       "              Education  Number of Policies  Monthly Premium Auto  \\\n",
       "0  High School or Below                 2.0                  90.0   \n",
       "1               College                 6.0                  62.0   \n",
       "2                Master                 2.0                  62.0   \n",
       "3  High School or Below                 1.0                 116.0   \n",
       "4  High School or Below                 1.0                  62.0   \n",
       "\n",
       "   Total Claim Amount   Income  Customer Lifetime Value  \n",
       "0          571.479602  11828.0             10083.486880  \n",
       "1          114.514440  44762.0              4943.386117  \n",
       "2          257.248789  21514.0             11981.984810  \n",
       "3          556.800000  17913.0              4550.856045  \n",
       "4          355.820799  19030.0              2372.155492  "
      ]
     },
     "execution_count": 2,
     "metadata": {},
     "output_type": "execute_result"
    }
   ],
   "source": [
    "# Load dataset\n",
    "df = pd.read_csv('data_customer_lifetime_value(1).csv')\n",
    "df.head()"
   ]
  },
  {
   "cell_type": "code",
   "execution_count": 3,
   "id": "08f74f6a",
   "metadata": {},
   "outputs": [
    {
     "name": "stdout",
     "output_type": "stream",
     "text": [
      "<class 'pandas.core.frame.DataFrame'>\n",
      "RangeIndex: 5669 entries, 0 to 5668\n",
      "Data columns (total 11 columns):\n",
      " #   Column                   Non-Null Count  Dtype  \n",
      "---  ------                   --------------  -----  \n",
      " 0   Vehicle Class            5669 non-null   object \n",
      " 1   Coverage                 5669 non-null   object \n",
      " 2   Renew Offer Type         5669 non-null   object \n",
      " 3   EmploymentStatus         5669 non-null   object \n",
      " 4   Marital Status           5669 non-null   object \n",
      " 5   Education                5669 non-null   object \n",
      " 6   Number of Policies       5669 non-null   float64\n",
      " 7   Monthly Premium Auto     5669 non-null   float64\n",
      " 8   Total Claim Amount       5669 non-null   float64\n",
      " 9   Income                   5669 non-null   float64\n",
      " 10  Customer Lifetime Value  5669 non-null   float64\n",
      "dtypes: float64(5), object(6)\n",
      "memory usage: 487.3+ KB\n"
     ]
    }
   ],
   "source": [
    "# cek informasi data dan tipe kolom \n",
    "df.info()"
   ]
  },
  {
   "cell_type": "markdown",
   "id": "49f5bf74",
   "metadata": {},
   "source": [
    "terdapat 5669 baris dan 11 kolom"
   ]
  },
  {
   "cell_type": "code",
   "execution_count": 4,
   "id": "a792b870",
   "metadata": {},
   "outputs": [
    {
     "data": {
      "text/html": [
       "<div>\n",
       "<style scoped>\n",
       "    .dataframe tbody tr th:only-of-type {\n",
       "        vertical-align: middle;\n",
       "    }\n",
       "\n",
       "    .dataframe tbody tr th {\n",
       "        vertical-align: top;\n",
       "    }\n",
       "\n",
       "    .dataframe thead th {\n",
       "        text-align: right;\n",
       "    }\n",
       "</style>\n",
       "<table border=\"1\" class=\"dataframe\">\n",
       "  <thead>\n",
       "    <tr style=\"text-align: right;\">\n",
       "      <th></th>\n",
       "      <th>Number of Policies</th>\n",
       "      <th>Monthly Premium Auto</th>\n",
       "      <th>Total Claim Amount</th>\n",
       "      <th>Income</th>\n",
       "      <th>Customer Lifetime Value</th>\n",
       "    </tr>\n",
       "  </thead>\n",
       "  <tbody>\n",
       "    <tr>\n",
       "      <th>count</th>\n",
       "      <td>5669.000000</td>\n",
       "      <td>5669.000000</td>\n",
       "      <td>5669.000000</td>\n",
       "      <td>5669.000000</td>\n",
       "      <td>5669.000000</td>\n",
       "    </tr>\n",
       "    <tr>\n",
       "      <th>mean</th>\n",
       "      <td>2.979361</td>\n",
       "      <td>93.026989</td>\n",
       "      <td>431.407103</td>\n",
       "      <td>37868.188569</td>\n",
       "      <td>8029.874592</td>\n",
       "    </tr>\n",
       "    <tr>\n",
       "      <th>std</th>\n",
       "      <td>2.393187</td>\n",
       "      <td>34.551795</td>\n",
       "      <td>287.558038</td>\n",
       "      <td>30490.490723</td>\n",
       "      <td>6916.708246</td>\n",
       "    </tr>\n",
       "    <tr>\n",
       "      <th>min</th>\n",
       "      <td>1.000000</td>\n",
       "      <td>61.000000</td>\n",
       "      <td>0.423310</td>\n",
       "      <td>0.000000</td>\n",
       "      <td>1898.007675</td>\n",
       "    </tr>\n",
       "    <tr>\n",
       "      <th>25%</th>\n",
       "      <td>1.000000</td>\n",
       "      <td>68.000000</td>\n",
       "      <td>266.932542</td>\n",
       "      <td>0.000000</td>\n",
       "      <td>3954.344534</td>\n",
       "    </tr>\n",
       "    <tr>\n",
       "      <th>50%</th>\n",
       "      <td>2.000000</td>\n",
       "      <td>82.000000</td>\n",
       "      <td>379.200000</td>\n",
       "      <td>34322.000000</td>\n",
       "      <td>5800.188903</td>\n",
       "    </tr>\n",
       "    <tr>\n",
       "      <th>75%</th>\n",
       "      <td>4.000000</td>\n",
       "      <td>109.000000</td>\n",
       "      <td>549.986128</td>\n",
       "      <td>62464.000000</td>\n",
       "      <td>9031.214859</td>\n",
       "    </tr>\n",
       "    <tr>\n",
       "      <th>max</th>\n",
       "      <td>9.000000</td>\n",
       "      <td>297.000000</td>\n",
       "      <td>2759.794354</td>\n",
       "      <td>99934.000000</td>\n",
       "      <td>83325.381190</td>\n",
       "    </tr>\n",
       "  </tbody>\n",
       "</table>\n",
       "</div>"
      ],
      "text/plain": [
       "       Number of Policies  Monthly Premium Auto  Total Claim Amount  \\\n",
       "count         5669.000000           5669.000000         5669.000000   \n",
       "mean             2.979361             93.026989          431.407103   \n",
       "std              2.393187             34.551795          287.558038   \n",
       "min              1.000000             61.000000            0.423310   \n",
       "25%              1.000000             68.000000          266.932542   \n",
       "50%              2.000000             82.000000          379.200000   \n",
       "75%              4.000000            109.000000          549.986128   \n",
       "max              9.000000            297.000000         2759.794354   \n",
       "\n",
       "             Income  Customer Lifetime Value  \n",
       "count   5669.000000              5669.000000  \n",
       "mean   37868.188569              8029.874592  \n",
       "std    30490.490723              6916.708246  \n",
       "min        0.000000              1898.007675  \n",
       "25%        0.000000              3954.344534  \n",
       "50%    34322.000000              5800.188903  \n",
       "75%    62464.000000              9031.214859  \n",
       "max    99934.000000             83325.381190  "
      ]
     },
     "metadata": {},
     "output_type": "display_data"
    },
    {
     "data": {
      "text/html": [
       "<div>\n",
       "<style scoped>\n",
       "    .dataframe tbody tr th:only-of-type {\n",
       "        vertical-align: middle;\n",
       "    }\n",
       "\n",
       "    .dataframe tbody tr th {\n",
       "        vertical-align: top;\n",
       "    }\n",
       "\n",
       "    .dataframe thead th {\n",
       "        text-align: right;\n",
       "    }\n",
       "</style>\n",
       "<table border=\"1\" class=\"dataframe\">\n",
       "  <thead>\n",
       "    <tr style=\"text-align: right;\">\n",
       "      <th></th>\n",
       "      <th>Vehicle Class</th>\n",
       "      <th>Coverage</th>\n",
       "      <th>Renew Offer Type</th>\n",
       "      <th>EmploymentStatus</th>\n",
       "      <th>Marital Status</th>\n",
       "      <th>Education</th>\n",
       "    </tr>\n",
       "  </thead>\n",
       "  <tbody>\n",
       "    <tr>\n",
       "      <th>count</th>\n",
       "      <td>5669</td>\n",
       "      <td>5669</td>\n",
       "      <td>5669</td>\n",
       "      <td>5669</td>\n",
       "      <td>5669</td>\n",
       "      <td>5669</td>\n",
       "    </tr>\n",
       "    <tr>\n",
       "      <th>unique</th>\n",
       "      <td>6</td>\n",
       "      <td>3</td>\n",
       "      <td>4</td>\n",
       "      <td>5</td>\n",
       "      <td>3</td>\n",
       "      <td>5</td>\n",
       "    </tr>\n",
       "    <tr>\n",
       "      <th>top</th>\n",
       "      <td>Four-Door Car</td>\n",
       "      <td>Basic</td>\n",
       "      <td>Offer1</td>\n",
       "      <td>Employed</td>\n",
       "      <td>Married</td>\n",
       "      <td>Bachelor</td>\n",
       "    </tr>\n",
       "    <tr>\n",
       "      <th>freq</th>\n",
       "      <td>2858</td>\n",
       "      <td>3477</td>\n",
       "      <td>2292</td>\n",
       "      <td>3541</td>\n",
       "      <td>3305</td>\n",
       "      <td>1703</td>\n",
       "    </tr>\n",
       "  </tbody>\n",
       "</table>\n",
       "</div>"
      ],
      "text/plain": [
       "        Vehicle Class Coverage Renew Offer Type EmploymentStatus  \\\n",
       "count            5669     5669             5669             5669   \n",
       "unique              6        3                4                5   \n",
       "top     Four-Door Car    Basic           Offer1         Employed   \n",
       "freq             2858     3477             2292             3541   \n",
       "\n",
       "       Marital Status Education  \n",
       "count            5669      5669  \n",
       "unique              3         5  \n",
       "top           Married  Bachelor  \n",
       "freq             3305      1703  "
      ]
     },
     "metadata": {},
     "output_type": "display_data"
    }
   ],
   "source": [
    "# Statistik deskriptif\n",
    "display(df.describe(), df.describe(include='object'))"
   ]
  },
  {
   "cell_type": "markdown",
   "id": "cecfb29a",
   "metadata": {},
   "source": [
    "Dari statistik deskriptif di atas, pada data kategorik dapat disimpulkan bahwa polis yang paling dominan adalah untuk kendaraan tipe mobil 4 pintu, coverage tipe Basic, dan Renew Offer tipe 1. Profil pelanggan paling umum adalah mereka yang sudah bekerja, berstatus menikah, dan memiliki pendidikan sarjana."
   ]
  },
  {
   "cell_type": "code",
   "execution_count": 5,
   "id": "238b6be5",
   "metadata": {},
   "outputs": [
    {
     "data": {
      "text/html": [
       "<div>\n",
       "<style scoped>\n",
       "    .dataframe tbody tr th:only-of-type {\n",
       "        vertical-align: middle;\n",
       "    }\n",
       "\n",
       "    .dataframe tbody tr th {\n",
       "        vertical-align: top;\n",
       "    }\n",
       "\n",
       "    .dataframe thead th {\n",
       "        text-align: right;\n",
       "    }\n",
       "</style>\n",
       "<table border=\"1\" class=\"dataframe\">\n",
       "  <thead>\n",
       "    <tr style=\"text-align: right;\">\n",
       "      <th></th>\n",
       "      <th>Column</th>\n",
       "      <th>Unique Count</th>\n",
       "      <th>Unique Value</th>\n",
       "      <th>Data Type</th>\n",
       "    </tr>\n",
       "  </thead>\n",
       "  <tbody>\n",
       "    <tr>\n",
       "      <th>0</th>\n",
       "      <td>Vehicle Class</td>\n",
       "      <td>6</td>\n",
       "      <td>[Four-Door Car, Two-Door Car, SUV, Sports Car, Luxury SUV, Luxury Car]</td>\n",
       "      <td>object</td>\n",
       "    </tr>\n",
       "    <tr>\n",
       "      <th>1</th>\n",
       "      <td>Coverage</td>\n",
       "      <td>3</td>\n",
       "      <td>[Extended, Basic, Premium]</td>\n",
       "      <td>object</td>\n",
       "    </tr>\n",
       "    <tr>\n",
       "      <th>2</th>\n",
       "      <td>Renew Offer Type</td>\n",
       "      <td>4</td>\n",
       "      <td>[Offer1, Offer3, Offer2, Offer4]</td>\n",
       "      <td>object</td>\n",
       "    </tr>\n",
       "    <tr>\n",
       "      <th>3</th>\n",
       "      <td>EmploymentStatus</td>\n",
       "      <td>5</td>\n",
       "      <td>[Retired, Employed, Disabled, Medical Leave, Unemployed]</td>\n",
       "      <td>object</td>\n",
       "    </tr>\n",
       "    <tr>\n",
       "      <th>4</th>\n",
       "      <td>Marital Status</td>\n",
       "      <td>3</td>\n",
       "      <td>[Divorced, Married, Single]</td>\n",
       "      <td>object</td>\n",
       "    </tr>\n",
       "    <tr>\n",
       "      <th>5</th>\n",
       "      <td>Education</td>\n",
       "      <td>5</td>\n",
       "      <td>[High School or Below, College, Master, Bachelor, Doctor]</td>\n",
       "      <td>object</td>\n",
       "    </tr>\n",
       "    <tr>\n",
       "      <th>6</th>\n",
       "      <td>Number of Policies</td>\n",
       "      <td>9</td>\n",
       "      <td>[2.0, 6.0, 1.0, 8.0, 5.0, 3.0, 7.0, 4.0, 9.0]</td>\n",
       "      <td>float64</td>\n",
       "    </tr>\n",
       "    <tr>\n",
       "      <th>7</th>\n",
       "      <td>Monthly Premium Auto</td>\n",
       "      <td>191</td>\n",
       "      <td>[90.0, 62.0, 116.0, 107.0, 101.0, 66.0, 65.0, 117.0, 78.0, 63.0, 70.0, 71.0, 61.0, 64.0, 129.0, 100.0, 68.0, 126.0, 95.0, 128.0, 84.0, 125.0, 98.0, 97.0, 121.0, 192.0, 69.0, 83.0, 72.0, 67.0, 103.0, 74.0, 89.0, 86.0, 110.0, 124.0, 73.0, 191.0, 122.0, 133.0, 165.0, 127.0, 144.0, 114.0, 194.0, 118.0, 111.0, 138.0, 119.0, 76.0, 80.0, 154.0, 189.0, 130.0, 109.0, 161.0, 88.0, 93.0, 113.0, 87.0, 136.0, 106.0, 99.0, 105.0, 82.0, 96.0, 159.0, 181.0, 146.0, 115.0, 187.0, 108.0, 209.0, 102.0, 104.0, 77.0, 79.0, 283.0, 150.0, 92.0, 91.0, 180.0, 131.0, 112.0, 184.0, 137.0, 185.0, 94.0, 198.0, 135.0, 140.0, 132.0, 139.0, 85.0, 123.0, 214.0, 201.0, 155.0, 193.0, 81.0, ...]</td>\n",
       "      <td>float64</td>\n",
       "    </tr>\n",
       "    <tr>\n",
       "      <th>8</th>\n",
       "      <td>Total Claim Amount</td>\n",
       "      <td>3274</td>\n",
       "      <td>[571.479602, 114.51444, 257.248789, 556.8, 355.820799, 85.063708, 584.567645, 144.987956, 264.563772, 582.781896, 39.781368, 227.44626, 347.857619, 239.328571, 340.8, 439.2, 307.2, 1178.950186, 480.0, 350.65008, 51.961915, 907.2, 423.787608, 234.683628, 456.0, 614.4, 475.2, 286.781601, 788.206874, 600.0, 265.877583, 513.6, 196.37368, 312.0, 335.840529, 580.8, 1921.248929, 331.2, 389.636991, 229.620398, 159.266473, 291.91645, 321.6, 685.227276, 355.2, 616.005527, 395.729716, 302.4, 287.5426, 528.0, 282.500791, 135.892444, 316.8, 525.6, 604.8, 981.010879, 650.52179, 668.29397, 349.954886, 345.6, 638.4, 1452.213743, 609.6, 93.128128, 297.6, 292.8, 268.471802, 624.023564, 245.447622, 476.903351, 624.711448, 820.431905, 547.2, 469.257835, 1067.291208, 416.2618, 566.4, 40.622304, 497.126827, 314.880326, 938.513425, 307.639408, 482.4, 29.984815, 290.70096, 30.874869, 199.79727, 384.0, 41.464402, 739.2, 571.2, 460.741097, 532.8, 206.810286, 199.851173, 799.2, 142.205246, 114.815893, 44.284642, 336.0, ...]</td>\n",
       "      <td>float64</td>\n",
       "    </tr>\n",
       "    <tr>\n",
       "      <th>9</th>\n",
       "      <td>Income</td>\n",
       "      <td>3625</td>\n",
       "      <td>[11828.0, 44762.0, 21514.0, 17913.0, 19030.0, 94389.0, 25419.0, 26477.0, 36615.0, 59624.0, 37813.0, 35624.0, 24910.0, 62739.0, 18608.0, 46210.0, 0.0, 15192.0, 50397.0, 82210.0, 22538.0, 31614.0, 78358.0, 36510.0, 51962.0, 45345.0, 62039.0, 66550.0, 71134.0, 26721.0, 66726.0, 40672.0, 44685.0, 78804.0, 23616.0, 38667.0, 59961.0, 57117.0, 25221.0, 33806.0, 46051.0, 42526.0, 43963.0, 52819.0, 50450.0, 51972.0, 72421.0, 38183.0, 20325.0, 51032.0, 20567.0, 23671.0, 45302.0, 21102.0, 53565.0, 59797.0, 47509.0, 22239.0, 14665.0, 64801.0, 44986.0, 43817.0, 36845.0, 49259.0, 26486.0, 56446.0, 67787.0, 89464.0, 22475.0, 31972.0, 58089.0, 41990.0, 84903.0, 67137.0, 21450.0, 99874.0, 26100.0, 31275.0, 71186.0, 91580.0, 69417.0, 88592.0, 26806.0, 23656.0, 94527.0, 44096.0, 66839.0, 18643.0, 58682.0, 87002.0, 47725.0, 22244.0, 26245.0, 61085.0, 62464.0, 48367.0, 59207.0, 75007.0, 72874.0, 72540.0, ...]</td>\n",
       "      <td>float64</td>\n",
       "    </tr>\n",
       "    <tr>\n",
       "      <th>10</th>\n",
       "      <td>Customer Lifetime Value</td>\n",
       "      <td>5049</td>\n",
       "      <td>[10083.48688, 4943.386117, 11981.98481, 4550.856045, 2372.155492, 8649.700578, 12052.98409, 2621.116054, 5243.828046, 9156.322563, 6259.510365, 19237.77089, 2248.449633, 5581.761298, 2538.62632, 2402.333284, 4774.751709, 4711.845199, 3832.118106, 2813.50617, 2687.314108, 4531.675269, 2554.033928, 5420.361822, 6846.150323, 10307.65258, 2239.647297, 6721.893743, 4804.35851, 14696.63549, 5396.311664, 25674.14895, 7708.883885, 6747.524275, 7661.388132, 9559.340024, 6745.248379, 24723.18311, 25763.41423, 6610.048274, 2787.423683, 2640.58732, 2656.99458, 3771.617797, 2502.209885, 3818.468252, 27789.69235, 2489.337928, 3417.204953, 8673.587, 4880.713626, 10640.93932, 7814.604545, 5510.558964, 13727.79972, 2592.437797, 15277.47796, 9031.214859, 3803.921781, 3339.853704, 2449.128459, 8060.161694, 16007.94954, 11714.78278, 5569.456156, 16350.13061, 15261.41386, 2588.080213, 2404.633766, 4558.428807, 7582.113842, 8041.20055, 12302.76244, 3370.074728, 2326.864833, 2903.024168, 44520.13577, 14754.35923, 9118.148093, 7751.927614, 15415.04407, 2513.117202, 5580.916514, 4686.469674, 2626.279436, 6961.945557, 4475.424592, 8176.576796, 10937.1785, 4807.846463, 2482.411991, 5205.748188, 5399.57618, 8870.673845, 2842.266905, 18321.41903, 7019.177186, 2926.5223, 5860.16743, 25253.10198, ...]</td>\n",
       "      <td>float64</td>\n",
       "    </tr>\n",
       "  </tbody>\n",
       "</table>\n",
       "</div>"
      ],
      "text/plain": [
       "                     Column  Unique Count  \\\n",
       "0             Vehicle Class             6   \n",
       "1                  Coverage             3   \n",
       "2          Renew Offer Type             4   \n",
       "3          EmploymentStatus             5   \n",
       "4            Marital Status             3   \n",
       "5                 Education             5   \n",
       "6        Number of Policies             9   \n",
       "7      Monthly Premium Auto           191   \n",
       "8        Total Claim Amount          3274   \n",
       "9                    Income          3625   \n",
       "10  Customer Lifetime Value          5049   \n",
       "\n",
       "                                                                                                                                                                                                                                                                                                                                                                                                                                                                                                                                                                                                                                                                                                                                                                                                                                                                                                                                                                                                                                                                                                                                                                                                                                                                                                                                   Unique Value  \\\n",
       "0                                                                                                                                                                                                                                                                                                                                                                                                                                                                                                                                                                                                                                                                                                                                                                                                                                                                                                                                                                                                                                                                                                                                                                                                                                                                        [Four-Door Car, Two-Door Car, SUV, Sports Car, Luxury SUV, Luxury Car]   \n",
       "1                                                                                                                                                                                                                                                                                                                                                                                                                                                                                                                                                                                                                                                                                                                                                                                                                                                                                                                                                                                                                                                                                                                                                                                                                                                                                                                    [Extended, Basic, Premium]   \n",
       "2                                                                                                                                                                                                                                                                                                                                                                                                                                                                                                                                                                                                                                                                                                                                                                                                                                                                                                                                                                                                                                                                                                                                                                                                                                                                                                              [Offer1, Offer3, Offer2, Offer4]   \n",
       "3                                                                                                                                                                                                                                                                                                                                                                                                                                                                                                                                                                                                                                                                                                                                                                                                                                                                                                                                                                                                                                                                                                                                                                                                                                                                                      [Retired, Employed, Disabled, Medical Leave, Unemployed]   \n",
       "4                                                                                                                                                                                                                                                                                                                                                                                                                                                                                                                                                                                                                                                                                                                                                                                                                                                                                                                                                                                                                                                                                                                                                                                                                                                                                                                   [Divorced, Married, Single]   \n",
       "5                                                                                                                                                                                                                                                                                                                                                                                                                                                                                                                                                                                                                                                                                                                                                                                                                                                                                                                                                                                                                                                                                                                                                                                                                                                                                     [High School or Below, College, Master, Bachelor, Doctor]   \n",
       "6                                                                                                                                                                                                                                                                                                                                                                                                                                                                                                                                                                                                                                                                                                                                                                                                                                                                                                                                                                                                                                                                                                                                                                                                                                                                                                 [2.0, 6.0, 1.0, 8.0, 5.0, 3.0, 7.0, 4.0, 9.0]   \n",
       "7                                                                                                                                                                                                                                                                                                                                                                                                                                                                                                                                                                                                                                                   [90.0, 62.0, 116.0, 107.0, 101.0, 66.0, 65.0, 117.0, 78.0, 63.0, 70.0, 71.0, 61.0, 64.0, 129.0, 100.0, 68.0, 126.0, 95.0, 128.0, 84.0, 125.0, 98.0, 97.0, 121.0, 192.0, 69.0, 83.0, 72.0, 67.0, 103.0, 74.0, 89.0, 86.0, 110.0, 124.0, 73.0, 191.0, 122.0, 133.0, 165.0, 127.0, 144.0, 114.0, 194.0, 118.0, 111.0, 138.0, 119.0, 76.0, 80.0, 154.0, 189.0, 130.0, 109.0, 161.0, 88.0, 93.0, 113.0, 87.0, 136.0, 106.0, 99.0, 105.0, 82.0, 96.0, 159.0, 181.0, 146.0, 115.0, 187.0, 108.0, 209.0, 102.0, 104.0, 77.0, 79.0, 283.0, 150.0, 92.0, 91.0, 180.0, 131.0, 112.0, 184.0, 137.0, 185.0, 94.0, 198.0, 135.0, 140.0, 132.0, 139.0, 85.0, 123.0, 214.0, 201.0, 155.0, 193.0, 81.0, ...]   \n",
       "8                                                                                                                                                                                                                                                                                          [571.479602, 114.51444, 257.248789, 556.8, 355.820799, 85.063708, 584.567645, 144.987956, 264.563772, 582.781896, 39.781368, 227.44626, 347.857619, 239.328571, 340.8, 439.2, 307.2, 1178.950186, 480.0, 350.65008, 51.961915, 907.2, 423.787608, 234.683628, 456.0, 614.4, 475.2, 286.781601, 788.206874, 600.0, 265.877583, 513.6, 196.37368, 312.0, 335.840529, 580.8, 1921.248929, 331.2, 389.636991, 229.620398, 159.266473, 291.91645, 321.6, 685.227276, 355.2, 616.005527, 395.729716, 302.4, 287.5426, 528.0, 282.500791, 135.892444, 316.8, 525.6, 604.8, 981.010879, 650.52179, 668.29397, 349.954886, 345.6, 638.4, 1452.213743, 609.6, 93.128128, 297.6, 292.8, 268.471802, 624.023564, 245.447622, 476.903351, 624.711448, 820.431905, 547.2, 469.257835, 1067.291208, 416.2618, 566.4, 40.622304, 497.126827, 314.880326, 938.513425, 307.639408, 482.4, 29.984815, 290.70096, 30.874869, 199.79727, 384.0, 41.464402, 739.2, 571.2, 460.741097, 532.8, 206.810286, 199.851173, 799.2, 142.205246, 114.815893, 44.284642, 336.0, ...]   \n",
       "9                                                                                                                                                                                                                                                                                                                                                                                                         [11828.0, 44762.0, 21514.0, 17913.0, 19030.0, 94389.0, 25419.0, 26477.0, 36615.0, 59624.0, 37813.0, 35624.0, 24910.0, 62739.0, 18608.0, 46210.0, 0.0, 15192.0, 50397.0, 82210.0, 22538.0, 31614.0, 78358.0, 36510.0, 51962.0, 45345.0, 62039.0, 66550.0, 71134.0, 26721.0, 66726.0, 40672.0, 44685.0, 78804.0, 23616.0, 38667.0, 59961.0, 57117.0, 25221.0, 33806.0, 46051.0, 42526.0, 43963.0, 52819.0, 50450.0, 51972.0, 72421.0, 38183.0, 20325.0, 51032.0, 20567.0, 23671.0, 45302.0, 21102.0, 53565.0, 59797.0, 47509.0, 22239.0, 14665.0, 64801.0, 44986.0, 43817.0, 36845.0, 49259.0, 26486.0, 56446.0, 67787.0, 89464.0, 22475.0, 31972.0, 58089.0, 41990.0, 84903.0, 67137.0, 21450.0, 99874.0, 26100.0, 31275.0, 71186.0, 91580.0, 69417.0, 88592.0, 26806.0, 23656.0, 94527.0, 44096.0, 66839.0, 18643.0, 58682.0, 87002.0, 47725.0, 22244.0, 26245.0, 61085.0, 62464.0, 48367.0, 59207.0, 75007.0, 72874.0, 72540.0, ...]   \n",
       "10  [10083.48688, 4943.386117, 11981.98481, 4550.856045, 2372.155492, 8649.700578, 12052.98409, 2621.116054, 5243.828046, 9156.322563, 6259.510365, 19237.77089, 2248.449633, 5581.761298, 2538.62632, 2402.333284, 4774.751709, 4711.845199, 3832.118106, 2813.50617, 2687.314108, 4531.675269, 2554.033928, 5420.361822, 6846.150323, 10307.65258, 2239.647297, 6721.893743, 4804.35851, 14696.63549, 5396.311664, 25674.14895, 7708.883885, 6747.524275, 7661.388132, 9559.340024, 6745.248379, 24723.18311, 25763.41423, 6610.048274, 2787.423683, 2640.58732, 2656.99458, 3771.617797, 2502.209885, 3818.468252, 27789.69235, 2489.337928, 3417.204953, 8673.587, 4880.713626, 10640.93932, 7814.604545, 5510.558964, 13727.79972, 2592.437797, 15277.47796, 9031.214859, 3803.921781, 3339.853704, 2449.128459, 8060.161694, 16007.94954, 11714.78278, 5569.456156, 16350.13061, 15261.41386, 2588.080213, 2404.633766, 4558.428807, 7582.113842, 8041.20055, 12302.76244, 3370.074728, 2326.864833, 2903.024168, 44520.13577, 14754.35923, 9118.148093, 7751.927614, 15415.04407, 2513.117202, 5580.916514, 4686.469674, 2626.279436, 6961.945557, 4475.424592, 8176.576796, 10937.1785, 4807.846463, 2482.411991, 5205.748188, 5399.57618, 8870.673845, 2842.266905, 18321.41903, 7019.177186, 2926.5223, 5860.16743, 25253.10198, ...]   \n",
       "\n",
       "   Data Type  \n",
       "0     object  \n",
       "1     object  \n",
       "2     object  \n",
       "3     object  \n",
       "4     object  \n",
       "5     object  \n",
       "6    float64  \n",
       "7    float64  \n",
       "8    float64  \n",
       "9    float64  \n",
       "10   float64  "
      ]
     },
     "execution_count": 5,
     "metadata": {},
     "output_type": "execute_result"
    }
   ],
   "source": [
    "# Menampilkan jumlah nilai unik dan tipe data dari semua kolom\n",
    "\n",
    "pd.set_option('display.max_colwidth', None)\n",
    "\n",
    "uniqueItem = []\n",
    "for column in df.columns:\n",
    "    uniqueItem.append([column, df[column].nunique(), df[column].unique(), df[column].dtype])\n",
    "\n",
    "unique = pd.DataFrame(columns=['Column', 'Unique Count', 'Unique Value', 'Data Type'], data=uniqueItem)\n",
    "unique"
   ]
  },
  {
   "cell_type": "markdown",
   "id": "0e5821fd",
   "metadata": {},
   "source": [
    "- Dari  11 kolom pada dataset ini, Kolom `Customer Lifetime Value` nantinya akan digunakan sebagai target dan 10 kolom lainnya akan menjadi variabel label/features.\n",
    "- Terdapat tujuh kolom yang berisi data kategorik, diantaranya adalah `Vehicle Class`, `Coverage`, `Renew Offer type`, `Employment Status`, `Marital Status`, `Education`, dan `Number of Policies`. `Number of Policies` akan dianggap sebagai data kategorik walaupun tipe datanya adalah integer. \"Number of Policies\" dianggap sebagai data kategorik karena nilai-nilai di kolom tersebut mewakili kategori jumlah polis yang dimiliki oleh pelanggan, bukan suatu variabel numerik yang berkelanjutan.\n",
    "- Selain dari tujuh data kategorik diatas, terdapat empat data numerik, yaitu `Monthly Premium Auto`, `Total Claim Amount`, `Income`, dan `Customer Lifetime Value`."
   ]
  },
  {
   "cell_type": "markdown",
   "id": "63bc4027",
   "metadata": {},
   "source": [
    "## 3. Data Preprocessing\n",
    "\n",
    "Pada tahap ini, akan melakukan cleaning pada data yang nantinya data yang sudah dibersihkan akan digunakan untuk proses analisis selanjutnya. Beberapa hal yang perlu dilakukan adalah:\n",
    "\n",
    "- Drop fitur yang tidak memiliki relevansi terhadap permasalahan yang sedang dihadapi jika ada.\n",
    "- Melakukan treatment terhadap missing value, data duplicate dan outliers. \n"
   ]
  },
  {
   "cell_type": "markdown",
   "id": "5b8ffbeb",
   "metadata": {},
   "source": [
    "**Missing Value**"
   ]
  },
  {
   "cell_type": "code",
   "execution_count": 6,
   "id": "a3b986e1",
   "metadata": {},
   "outputs": [
    {
     "data": {
      "text/plain": [
       "Vehicle Class              0\n",
       "Coverage                   0\n",
       "Renew Offer Type           0\n",
       "EmploymentStatus           0\n",
       "Marital Status             0\n",
       "Education                  0\n",
       "Number of Policies         0\n",
       "Monthly Premium Auto       0\n",
       "Total Claim Amount         0\n",
       "Income                     0\n",
       "Customer Lifetime Value    0\n",
       "dtype: int64"
      ]
     },
     "execution_count": 6,
     "metadata": {},
     "output_type": "execute_result"
    }
   ],
   "source": [
    "# Check missing value \n",
    "df.isna().sum()"
   ]
  },
  {
   "cell_type": "markdown",
   "id": "06ed7920",
   "metadata": {},
   "source": [
    "**Data Duplikat**"
   ]
  },
  {
   "cell_type": "code",
   "execution_count": 7,
   "id": "668352ad",
   "metadata": {},
   "outputs": [
    {
     "data": {
      "text/plain": [
       "618"
      ]
     },
     "execution_count": 7,
     "metadata": {},
     "output_type": "execute_result"
    }
   ],
   "source": [
    "# Mecari data duplicate dari dataset \n",
    "df.duplicated().sum()"
   ]
  },
  {
   "cell_type": "code",
   "execution_count": 8,
   "id": "c281c2dd",
   "metadata": {},
   "outputs": [],
   "source": [
    "# menghapus data duplicate\n",
    "df = df.drop_duplicates(keep='first')"
   ]
  },
  {
   "cell_type": "code",
   "execution_count": 9,
   "id": "7d7c982c",
   "metadata": {},
   "outputs": [
    {
     "data": {
      "text/plain": [
       "0"
      ]
     },
     "execution_count": 9,
     "metadata": {},
     "output_type": "execute_result"
    }
   ],
   "source": [
    "# check kembali data duplicate \n",
    "df.duplicated().sum()"
   ]
  },
  {
   "cell_type": "code",
   "execution_count": 10,
   "id": "7e671070",
   "metadata": {},
   "outputs": [
    {
     "data": {
      "image/png": "[encoded data removed]",
      "text/plain": [
       "<Figure size 700x700 with 1 Axes>"
      ]
     },
     "metadata": {},
     "output_type": "display_data"
    }
   ],
   "source": [
    "# melihat distribusi data CLV\n",
    "plt.figure(figsize=(7, 7))\n",
    "sns.distplot(df['Customer Lifetime Value'])\n",
    "plt.title('CLV Distribution', size=15, weight='bold');"
   ]
  },
  {
   "cell_type": "markdown",
   "id": "f46d268c",
   "metadata": {},
   "source": [
    "Dari visualisasi data di atas menunjukan bahwa data ini memiliki distribusi Right-Skewed. Terdapat skewness positif pada fitur Customer Lifetime Value.\n",
    "\n",
    "Distribusi right-skewed menunjukkan bahwa sebagian besar nilai CLV cenderung lebih rendah, sementara beberapa nilai tinggi menarik ekor distribusi. Hal ini menunjukkan adanya nilai-nilai ekstrem yang lebih tinggi dari rata-rata, yang dapat mempengaruhi analisis statistik dan pemodelan."
   ]
  },
  {
   "cell_type": "code",
   "execution_count": 11,
   "id": "c7851b04",
   "metadata": {},
   "outputs": [
    {
     "data": {
      "image/png": "[encoded data removed]",
      "text/plain": [
       "<Figure size 700x700 with 2 Axes>"
      ]
     },
     "metadata": {
      "needs_background": "light"
     },
     "output_type": "display_data"
    }
   ],
   "source": [
    "# Memisahkan feature kategorikal dan numerikal\n",
    "kategori = [\"Vehicle Class\", \"Coverage\", \"Renew Offer Type\", \"Employment Status\", \"Marital Status\", \"Education\", \"Number of Policies\"]\n",
    "numerik = [\"Monthly Premium Auto\", \"Total Claim Amount\", \"Income\", \"Customer Lifetime Value\"]\n",
    "\n",
    "# Melihat corelasi matrix antara fitur numerik\n",
    "plt.figure(figsize=(7, 7), facecolor=\"none\")\n",
    "\n",
    "# Menggunakan metode 'spearman' \n",
    "correlation_matrix = df[numerik].corr(method='spearman')\n",
    "\n",
    "# Membuat heatmap dengan warna yang berbeda (misalnya, 'coolwarm')\n",
    "sns.heatmap(correlation_matrix, annot=True, cmap='coolwarm', linewidths=1, vmin=-1, vmax=1)\n",
    "\n",
    "plt.title(\"Correlation Matrix\", size=14)\n",
    "plt.show()\n"
   ]
  },
  {
   "cell_type": "markdown",
   "id": "df95ef2a",
   "metadata": {},
   "source": [
    "Correlation matrix menunjukkan bahwa :\n",
    "\n",
    "- Nilai korelasi antara CLV dengan Monthly Premium Auto adalah 0.47 Hal ini menunjukkan bahwa terdapat korelasi yang sedang antara CLV dengan Monthly Premium Auto. \n",
    "\n",
    "- Nilai korelasi antara CLV dengan Total Claim Amount adalah 0.19 Hal ini menunjukkan bahwa terdapat korelasi yang lemah.Jumlah klaim yang diajukan oleh pelanggan tidak terlalu berpengaruh terhadap CLV.\n",
    "\n",
    "- Nilai korelasi antara CLV dengan Income adalah 0.063 Hal ini menunjukkan bahwa terdapat korelasi yang sangat lemah. Artinya, pendapatan pelanggan tidak terlalu berpengaruh terhadap CLV.\n",
    "\n",
    "Dapat disimpulkan bahwa faktor yang paling berpengaruh terhadap Customer Lifetime Value adalah Monthly Premium Auto. Faktor-faktor lain, seperti Total Claim Amount dan Income, memiliki pengaruh yang lebih kecil.\n"
   ]
  },
  {
   "cell_type": "markdown",
   "id": "4f6080fd",
   "metadata": {},
   "source": [
    "**Outlier**"
   ]
  },
  {
   "cell_type": "code",
   "execution_count": 12,
   "id": "3aca3dd4",
   "metadata": {},
   "outputs": [
    {
     "data": {
      "image/png": "[encoded data removed]",
      "text/plain": [
       "<Figure size 640x480 with 1 Axes>"
      ]
     },
     "metadata": {},
     "output_type": "display_data"
    }
   ],
   "source": [
    "# Plot boxplot untuk mengecek outliers\n",
    "df.boxplot(rot=90);"
   ]
  },
  {
   "cell_type": "markdown",
   "id": "35c3e830",
   "metadata": {},
   "source": [
    "Terdapat Outlier pada Feature Monthly Premium Auto, Total Claim Amount, dan Customer LifeTime Value"
   ]
  },
  {
   "cell_type": "code",
   "execution_count": 13,
   "id": "1d6cff32",
   "metadata": {},
   "outputs": [
    {
     "data": {
      "text/plain": [
       "<Figure size 1000x500 with 0 Axes>"
      ]
     },
     "metadata": {},
     "output_type": "display_data"
    },
    {
     "data": {
      "image/png": "[encoded data removed]",
      "text/plain": [
       "<Figure size 1200x800 with 4 Axes>"
      ]
     },
     "metadata": {},
     "output_type": "display_data"
    }
   ],
   "source": [
    "# alternatif untuk visualisasi outlier menggunakan boxplot\n",
    "\n",
    "# Membuat warna yang berbeda untuk setiap boxplot\n",
    "colors = sns.color_palette(\"pastel\")\n",
    "\n",
    "# Set ukuran figure\n",
    "plt.figure(figsize=(10, 5), facecolor='white')\n",
    "\n",
    "# Menggunakan subplots untuk menampilkan boxplot\n",
    "fig, axes = plt.subplots(nrows=2, ncols=2, figsize=(12, 8))\n",
    "\n",
    "# Menambahkan boxplot dengan warna yang berbeda\n",
    "for i, feature in enumerate(numerik):\n",
    "    sns.boxplot(x=feature, data=df, ax=axes[i//2, i%2], color=colors[i])\n",
    "\n",
    "# Menambahkan judul dan menyesuaikan layout\n",
    "plt.suptitle('Boxplot of Numerical Features with Outliers', size=16, weight='bold')\n",
    "plt.tight_layout(rect=[0, 0.03, 1, 0.95])\n",
    "\n",
    "# Tampilkan plot\n",
    "plt.show()\n"
   ]
  },
  {
   "cell_type": "markdown",
   "id": "d0c86bf2",
   "metadata": {},
   "source": [
    "Terdapat Outlier pada Feature Monthly Premium Auto, Total Claim Amount, dan Customer LifeTime Value. Outlier-outlier ini dapat mempengaruhi performa dari model yang akan dibuat. Untuk itu perlu adanya analisis untuk mengetahui tindakan yang diperlukan untuk data outliers."
   ]
  },
  {
   "cell_type": "markdown",
   "id": "c6163357",
   "metadata": {},
   "source": [
    "Disisi lain Outlayer pada CLV kita hapus karena fokus pada customer dengan clv <20000 agar bisa melakukan up selling atau cross selling untuk menaikan income dan profit perusahaan\n",
    "Untuk Outlier feature Total Klaim Amount, dan Monthly Premium Auto juga akan dihapus memakai batasan IQR karena berdasarkan EDA semakin tinggi CLV semakin tinggi juga Total Klaim Amount, dan Monthly Premi Auto (bisa dilihat pada grafik di bawah)"
   ]
  },
  {
   "cell_type": "code",
   "execution_count": 14,
   "id": "73411968",
   "metadata": {},
   "outputs": [],
   "source": [
    "# Fungsi untuk mengecek IQR dan limit\n",
    "def outlier (data):\n",
    "    q1 = data.quantile(0.25)\n",
    "    q3 = data.quantile(0.75)\n",
    "    iqr = q3 - q1\n",
    "    limit = iqr*1.5\n",
    "    print(f'IQR: {iqr}')\n",
    "\n",
    "    limit_bawah = q1 - limit\n",
    "    limit_atas = q3 + limit\n",
    "    print(f'limit_bawah: {limit_bawah}')\n",
    "    print(f'limit_atas: {limit_atas}')    "
   ]
  },
  {
   "cell_type": "code",
   "execution_count": 15,
   "id": "8939df5e",
   "metadata": {},
   "outputs": [
    {
     "name": "stdout",
     "output_type": "stream",
     "text": [
      "IQR: 5064.1236284999995\n",
      "limit_bawah: -3631.744438749999\n",
      "limit_atas: 16624.75007525\n"
     ]
    }
   ],
   "source": [
    "outlier(df['Customer Lifetime Value'])"
   ]
  },
  {
   "cell_type": "code",
   "execution_count": 16,
   "id": "60c222e7",
   "metadata": {},
   "outputs": [
    {
     "data": {
      "text/plain": [
       "449"
      ]
     },
     "execution_count": 16,
     "metadata": {},
     "output_type": "execute_result"
    }
   ],
   "source": [
    "df[df['Customer Lifetime Value'] > 16646.5203465].count()['Customer Lifetime Value']"
   ]
  },
  {
   "cell_type": "markdown",
   "id": "48a2a0ba",
   "metadata": {},
   "source": [
    "Terdapat 449 outliers pada kolom Customer Lifetime Value."
   ]
  },
  {
   "cell_type": "code",
   "execution_count": 17,
   "id": "c8de4b2d",
   "metadata": {},
   "outputs": [
    {
     "data": {
      "image/png": "[encoded data removed]",
      "text/plain": [
       "<Figure size 2100x600 with 2 Axes>"
      ]
     },
     "metadata": {},
     "output_type": "display_data"
    }
   ],
   "source": [
    "# Melakukan filtering pada data\n",
    "df_model = df[(df['Customer Lifetime Value'] <= 16646.5203465)]\n",
    "\n",
    "# Plot distribusi data sebelum dan sesudah filtering\n",
    "fig, axes = plt.subplots(1,2, figsize=(21, 6))\n",
    "sns.distplot(df['Customer Lifetime Value'], ax=axes[0])\n",
    "sns.distplot(df_model['Customer Lifetime Value'], ax=axes[1])\n",
    "axes[0].set_xlabel('Customer Lifetime Value')\n",
    "axes[1].set_xlabel('Range Selected Customer Lifetime Value')\n",
    "plt.show()"
   ]
  },
  {
   "cell_type": "code",
   "execution_count": 18,
   "id": "ef28021e",
   "metadata": {},
   "outputs": [
    {
     "name": "stdout",
     "output_type": "stream",
     "text": [
      "Statistik Deskriptif Sebelum Data Outliers pada Variabel Customer Lifetime Value Dihapus\n"
     ]
    },
    {
     "data": {
      "text/html": [
       "<div>\n",
       "<style scoped>\n",
       "    .dataframe tbody tr th:only-of-type {\n",
       "        vertical-align: middle;\n",
       "    }\n",
       "\n",
       "    .dataframe tbody tr th {\n",
       "        vertical-align: top;\n",
       "    }\n",
       "\n",
       "    .dataframe thead th {\n",
       "        text-align: right;\n",
       "    }\n",
       "</style>\n",
       "<table border=\"1\" class=\"dataframe\">\n",
       "  <thead>\n",
       "    <tr style=\"text-align: right;\">\n",
       "      <th></th>\n",
       "      <th>Monthly Premium Auto</th>\n",
       "      <th>Total Claim Amount</th>\n",
       "      <th>Income</th>\n",
       "      <th>Customer Lifetime Value</th>\n",
       "    </tr>\n",
       "  </thead>\n",
       "  <tbody>\n",
       "    <tr>\n",
       "      <th>count</th>\n",
       "      <td>5051.000000</td>\n",
       "      <td>5051.000000</td>\n",
       "      <td>5051.000000</td>\n",
       "      <td>5051.000000</td>\n",
       "    </tr>\n",
       "    <tr>\n",
       "      <th>mean</th>\n",
       "      <td>92.911107</td>\n",
       "      <td>429.798954</td>\n",
       "      <td>37739.838448</td>\n",
       "      <td>8059.483178</td>\n",
       "    </tr>\n",
       "    <tr>\n",
       "      <th>std</th>\n",
       "      <td>34.335010</td>\n",
       "      <td>293.129102</td>\n",
       "      <td>30691.452111</td>\n",
       "      <td>6989.189674</td>\n",
       "    </tr>\n",
       "    <tr>\n",
       "      <th>min</th>\n",
       "      <td>61.000000</td>\n",
       "      <td>0.423310</td>\n",
       "      <td>0.000000</td>\n",
       "      <td>1898.007675</td>\n",
       "    </tr>\n",
       "    <tr>\n",
       "      <th>25%</th>\n",
       "      <td>68.000000</td>\n",
       "      <td>251.776304</td>\n",
       "      <td>0.000000</td>\n",
       "      <td>3964.441004</td>\n",
       "    </tr>\n",
       "    <tr>\n",
       "      <th>50%</th>\n",
       "      <td>82.000000</td>\n",
       "      <td>374.400000</td>\n",
       "      <td>34322.000000</td>\n",
       "      <td>5837.528088</td>\n",
       "    </tr>\n",
       "    <tr>\n",
       "      <th>75%</th>\n",
       "      <td>109.000000</td>\n",
       "      <td>548.123122</td>\n",
       "      <td>62471.500000</td>\n",
       "      <td>9028.564632</td>\n",
       "    </tr>\n",
       "    <tr>\n",
       "      <th>max</th>\n",
       "      <td>297.000000</td>\n",
       "      <td>2759.794354</td>\n",
       "      <td>99934.000000</td>\n",
       "      <td>83325.381190</td>\n",
       "    </tr>\n",
       "  </tbody>\n",
       "</table>\n",
       "</div>"
      ],
      "text/plain": [
       "       Monthly Premium Auto  Total Claim Amount        Income  \\\n",
       "count           5051.000000         5051.000000   5051.000000   \n",
       "mean              92.911107          429.798954  37739.838448   \n",
       "std               34.335010          293.129102  30691.452111   \n",
       "min               61.000000            0.423310      0.000000   \n",
       "25%               68.000000          251.776304      0.000000   \n",
       "50%               82.000000          374.400000  34322.000000   \n",
       "75%              109.000000          548.123122  62471.500000   \n",
       "max              297.000000         2759.794354  99934.000000   \n",
       "\n",
       "       Customer Lifetime Value  \n",
       "count              5051.000000  \n",
       "mean               8059.483178  \n",
       "std                6989.189674  \n",
       "min                1898.007675  \n",
       "25%                3964.441004  \n",
       "50%                5837.528088  \n",
       "75%                9028.564632  \n",
       "max               83325.381190  "
      ]
     },
     "metadata": {},
     "output_type": "display_data"
    },
    {
     "name": "stdout",
     "output_type": "stream",
     "text": [
      "Statistik Deskriptif Setelah Data Outliers pada Variabel Customer Lifetime Value Dihapus\n"
     ]
    },
    {
     "data": {
      "text/html": [
       "<div>\n",
       "<style scoped>\n",
       "    .dataframe tbody tr th:only-of-type {\n",
       "        vertical-align: middle;\n",
       "    }\n",
       "\n",
       "    .dataframe tbody tr th {\n",
       "        vertical-align: top;\n",
       "    }\n",
       "\n",
       "    .dataframe thead th {\n",
       "        text-align: right;\n",
       "    }\n",
       "</style>\n",
       "<table border=\"1\" class=\"dataframe\">\n",
       "  <thead>\n",
       "    <tr style=\"text-align: right;\">\n",
       "      <th></th>\n",
       "      <th>Monthly Premium Auto</th>\n",
       "      <th>Total Claim Amount</th>\n",
       "      <th>Income</th>\n",
       "      <th>Customer Lifetime Value</th>\n",
       "    </tr>\n",
       "  </thead>\n",
       "  <tbody>\n",
       "    <tr>\n",
       "      <th>count</th>\n",
       "      <td>4602.000000</td>\n",
       "      <td>4602.000000</td>\n",
       "      <td>4602.000000</td>\n",
       "      <td>4602.000000</td>\n",
       "    </tr>\n",
       "    <tr>\n",
       "      <th>mean</th>\n",
       "      <td>90.584528</td>\n",
       "      <td>420.104245</td>\n",
       "      <td>37587.835289</td>\n",
       "      <td>6325.184168</td>\n",
       "    </tr>\n",
       "    <tr>\n",
       "      <th>std</th>\n",
       "      <td>30.844160</td>\n",
       "      <td>279.398375</td>\n",
       "      <td>30665.844042</td>\n",
       "      <td>3320.547103</td>\n",
       "    </tr>\n",
       "    <tr>\n",
       "      <th>min</th>\n",
       "      <td>61.000000</td>\n",
       "      <td>0.423310</td>\n",
       "      <td>0.000000</td>\n",
       "      <td>1898.007675</td>\n",
       "    </tr>\n",
       "    <tr>\n",
       "      <th>25%</th>\n",
       "      <td>68.000000</td>\n",
       "      <td>251.526302</td>\n",
       "      <td>0.000000</td>\n",
       "      <td>3708.569393</td>\n",
       "    </tr>\n",
       "    <tr>\n",
       "      <th>50%</th>\n",
       "      <td>80.000000</td>\n",
       "      <td>369.868595</td>\n",
       "      <td>34140.500000</td>\n",
       "      <td>5505.112198</td>\n",
       "    </tr>\n",
       "    <tr>\n",
       "      <th>75%</th>\n",
       "      <td>107.000000</td>\n",
       "      <td>541.740429</td>\n",
       "      <td>62212.250000</td>\n",
       "      <td>8169.469198</td>\n",
       "    </tr>\n",
       "    <tr>\n",
       "      <th>max</th>\n",
       "      <td>297.000000</td>\n",
       "      <td>2759.794354</td>\n",
       "      <td>99934.000000</td>\n",
       "      <td>16589.712370</td>\n",
       "    </tr>\n",
       "  </tbody>\n",
       "</table>\n",
       "</div>"
      ],
      "text/plain": [
       "       Monthly Premium Auto  Total Claim Amount        Income  \\\n",
       "count           4602.000000         4602.000000   4602.000000   \n",
       "mean              90.584528          420.104245  37587.835289   \n",
       "std               30.844160          279.398375  30665.844042   \n",
       "min               61.000000            0.423310      0.000000   \n",
       "25%               68.000000          251.526302      0.000000   \n",
       "50%               80.000000          369.868595  34140.500000   \n",
       "75%              107.000000          541.740429  62212.250000   \n",
       "max              297.000000         2759.794354  99934.000000   \n",
       "\n",
       "       Customer Lifetime Value  \n",
       "count              4602.000000  \n",
       "mean               6325.184168  \n",
       "std                3320.547103  \n",
       "min                1898.007675  \n",
       "25%                3708.569393  \n",
       "50%                5505.112198  \n",
       "75%                8169.469198  \n",
       "max               16589.712370  "
      ]
     },
     "metadata": {},
     "output_type": "display_data"
    }
   ],
   "source": [
    "print(\"Statistik Deskriptif Sebelum Data Outliers pada Variabel Customer Lifetime Value Dihapus\")\n",
    "display(df[numerik].describe())\n",
    "print(\"Statistik Deskriptif Setelah Data Outliers pada Variabel Customer Lifetime Value Dihapus\")\n",
    "display(df_model[numerik].describe())"
   ]
  },
  {
   "cell_type": "code",
   "execution_count": 19,
   "id": "91a5cdb1",
   "metadata": {},
   "outputs": [
    {
     "name": "stdout",
     "output_type": "stream",
     "text": [
      "IQR: 41.0\n",
      "limit_bawah: 6.5\n",
      "limit_atas: 170.5\n"
     ]
    }
   ],
   "source": [
    "#outlier pada kolom Monthly Premium Auto\n",
    "outlier(df['Monthly Premium Auto'])"
   ]
  },
  {
   "cell_type": "code",
   "execution_count": 20,
   "id": "d4051438",
   "metadata": {},
   "outputs": [
    {
     "data": {
      "text/plain": [
       "252"
      ]
     },
     "execution_count": 20,
     "metadata": {},
     "output_type": "execute_result"
    }
   ],
   "source": [
    "df[df['Monthly Premium Auto'] > 170.5].count()['Monthly Premium Auto']"
   ]
  },
  {
   "cell_type": "markdown",
   "id": "2fbe1abf",
   "metadata": {},
   "source": [
    "Terdapat 252 outliers pada kolom Monthly Premium Auto."
   ]
  },
  {
   "cell_type": "code",
   "execution_count": 21,
   "id": "e202d7ee",
   "metadata": {},
   "outputs": [
    {
     "data": {
      "text/html": [
       "<div>\n",
       "<style scoped>\n",
       "    .dataframe tbody tr th:only-of-type {\n",
       "        vertical-align: middle;\n",
       "    }\n",
       "\n",
       "    .dataframe tbody tr th {\n",
       "        vertical-align: top;\n",
       "    }\n",
       "\n",
       "    .dataframe thead th {\n",
       "        text-align: right;\n",
       "    }\n",
       "</style>\n",
       "<table border=\"1\" class=\"dataframe\">\n",
       "  <thead>\n",
       "    <tr style=\"text-align: right;\">\n",
       "      <th></th>\n",
       "      <th>count</th>\n",
       "      <th>mean</th>\n",
       "      <th>std</th>\n",
       "      <th>min</th>\n",
       "      <th>25%</th>\n",
       "      <th>50%</th>\n",
       "      <th>75%</th>\n",
       "      <th>max</th>\n",
       "    </tr>\n",
       "    <tr>\n",
       "      <th>Vehicle Class</th>\n",
       "      <th></th>\n",
       "      <th></th>\n",
       "      <th></th>\n",
       "      <th></th>\n",
       "      <th></th>\n",
       "      <th></th>\n",
       "      <th></th>\n",
       "      <th></th>\n",
       "    </tr>\n",
       "  </thead>\n",
       "  <tbody>\n",
       "    <tr>\n",
       "      <th>Two-Door Car</th>\n",
       "      <td>1059.0</td>\n",
       "      <td>76.674221</td>\n",
       "      <td>14.420455</td>\n",
       "      <td>61.0</td>\n",
       "      <td>66.0</td>\n",
       "      <td>71.0</td>\n",
       "      <td>86.0</td>\n",
       "      <td>119.0</td>\n",
       "    </tr>\n",
       "    <tr>\n",
       "      <th>Four-Door Car</th>\n",
       "      <td>2565.0</td>\n",
       "      <td>77.020663</td>\n",
       "      <td>14.142962</td>\n",
       "      <td>61.0</td>\n",
       "      <td>66.0</td>\n",
       "      <td>72.0</td>\n",
       "      <td>86.0</td>\n",
       "      <td>119.0</td>\n",
       "    </tr>\n",
       "    <tr>\n",
       "      <th>SUV</th>\n",
       "      <td>963.0</td>\n",
       "      <td>120.860852</td>\n",
       "      <td>18.966141</td>\n",
       "      <td>100.0</td>\n",
       "      <td>108.0</td>\n",
       "      <td>116.0</td>\n",
       "      <td>129.0</td>\n",
       "      <td>199.0</td>\n",
       "    </tr>\n",
       "    <tr>\n",
       "      <th>Sports Car</th>\n",
       "      <td>262.0</td>\n",
       "      <td>122.190840</td>\n",
       "      <td>19.335559</td>\n",
       "      <td>100.0</td>\n",
       "      <td>109.0</td>\n",
       "      <td>116.0</td>\n",
       "      <td>132.0</td>\n",
       "      <td>199.0</td>\n",
       "    </tr>\n",
       "    <tr>\n",
       "      <th>Luxury Car</th>\n",
       "      <td>101.0</td>\n",
       "      <td>207.792079</td>\n",
       "      <td>30.933256</td>\n",
       "      <td>180.0</td>\n",
       "      <td>187.0</td>\n",
       "      <td>193.0</td>\n",
       "      <td>223.0</td>\n",
       "      <td>297.0</td>\n",
       "    </tr>\n",
       "    <tr>\n",
       "      <th>Luxury SUV</th>\n",
       "      <td>101.0</td>\n",
       "      <td>209.386139</td>\n",
       "      <td>27.256181</td>\n",
       "      <td>180.0</td>\n",
       "      <td>192.0</td>\n",
       "      <td>199.0</td>\n",
       "      <td>219.0</td>\n",
       "      <td>287.0</td>\n",
       "    </tr>\n",
       "  </tbody>\n",
       "</table>\n",
       "</div>"
      ],
      "text/plain": [
       "                count        mean        std    min    25%    50%    75%  \\\n",
       "Vehicle Class                                                              \n",
       "Two-Door Car   1059.0   76.674221  14.420455   61.0   66.0   71.0   86.0   \n",
       "Four-Door Car  2565.0   77.020663  14.142962   61.0   66.0   72.0   86.0   \n",
       "SUV             963.0  120.860852  18.966141  100.0  108.0  116.0  129.0   \n",
       "Sports Car      262.0  122.190840  19.335559  100.0  109.0  116.0  132.0   \n",
       "Luxury Car      101.0  207.792079  30.933256  180.0  187.0  193.0  223.0   \n",
       "Luxury SUV      101.0  209.386139  27.256181  180.0  192.0  199.0  219.0   \n",
       "\n",
       "                 max  \n",
       "Vehicle Class         \n",
       "Two-Door Car   119.0  \n",
       "Four-Door Car  119.0  \n",
       "SUV            199.0  \n",
       "Sports Car     199.0  \n",
       "Luxury Car     297.0  \n",
       "Luxury SUV     287.0  "
      ]
     },
     "execution_count": 21,
     "metadata": {},
     "output_type": "execute_result"
    }
   ],
   "source": [
    "# statistik deskriptif terhadap kolom \"Monthly Premium Auto\" berdasarkan kelompok kendaraan (\"Vehicle Class\")\n",
    "df.groupby(\"Vehicle Class\")[\"Monthly Premium Auto\"].describe().sort_values(\"50%\")"
   ]
  },
  {
   "cell_type": "markdown",
   "id": "20bcd275",
   "metadata": {},
   "source": [
    "Menghapus data outliers pada variabel Monthly Premium auto, diamana batas atas yang didapatkan dari perhitungan IQR adalah 170.5 Dollar, tidak dilakukan. Ketika data dengan nilai Monthly Premium Auto diatas nilai batas atas, maka 2 buah kelas dari variabel Vehivle Class, Luxury Car & Luxury SUV akan hilang. Oleh karena itu, Penghapusan Data Outliers berdasarkan variabel monthly Premium Auto tidak akan dilakukan."
   ]
  },
  {
   "cell_type": "code",
   "execution_count": 22,
   "id": "6089b05c",
   "metadata": {},
   "outputs": [
    {
     "name": "stdout",
     "output_type": "stream",
     "text": [
      "IQR: 296.34681750000004\n",
      "limit_bawah: -192.74392225000005\n",
      "limit_atas: 992.6433477500001\n"
     ]
    }
   ],
   "source": [
    "# outlier pada kolom Total Claim Amount\n",
    "outlier(df['Total Claim Amount'])"
   ]
  },
  {
   "cell_type": "code",
   "execution_count": 23,
   "id": "7ad8ecad",
   "metadata": {},
   "outputs": [
    {
     "data": {
      "text/plain": [
       "217"
      ]
     },
     "execution_count": 23,
     "metadata": {},
     "output_type": "execute_result"
    }
   ],
   "source": [
    "df[df['Total Claim Amount'] > 992.6433477500001].count()['Total Claim Amount']"
   ]
  },
  {
   "cell_type": "markdown",
   "id": "70c97722",
   "metadata": {},
   "source": [
    "Terdapat 217 outliers pada kolom Total Claim Amount."
   ]
  },
  {
   "cell_type": "code",
   "execution_count": 24,
   "id": "60a11415",
   "metadata": {},
   "outputs": [
    {
     "data": {
      "text/html": [
       "<div>\n",
       "<style scoped>\n",
       "    .dataframe tbody tr th:only-of-type {\n",
       "        vertical-align: middle;\n",
       "    }\n",
       "\n",
       "    .dataframe tbody tr th {\n",
       "        vertical-align: top;\n",
       "    }\n",
       "\n",
       "    .dataframe thead th {\n",
       "        text-align: right;\n",
       "    }\n",
       "</style>\n",
       "<table border=\"1\" class=\"dataframe\">\n",
       "  <thead>\n",
       "    <tr style=\"text-align: right;\">\n",
       "      <th></th>\n",
       "      <th>count</th>\n",
       "      <th>mean</th>\n",
       "      <th>std</th>\n",
       "      <th>min</th>\n",
       "      <th>25%</th>\n",
       "      <th>50%</th>\n",
       "      <th>75%</th>\n",
       "      <th>max</th>\n",
       "    </tr>\n",
       "    <tr>\n",
       "      <th>Vehicle Class</th>\n",
       "      <th></th>\n",
       "      <th></th>\n",
       "      <th></th>\n",
       "      <th></th>\n",
       "      <th></th>\n",
       "      <th></th>\n",
       "      <th></th>\n",
       "      <th></th>\n",
       "    </tr>\n",
       "  </thead>\n",
       "  <tbody>\n",
       "    <tr>\n",
       "      <th>Four-Door Car</th>\n",
       "      <td>2565.0</td>\n",
       "      <td>346.106756</td>\n",
       "      <td>198.864261</td>\n",
       "      <td>0.423310</td>\n",
       "      <td>208.885686</td>\n",
       "      <td>336.000000</td>\n",
       "      <td>454.358500</td>\n",
       "      <td>1310.461580</td>\n",
       "    </tr>\n",
       "    <tr>\n",
       "      <th>Two-Door Car</th>\n",
       "      <td>1059.0</td>\n",
       "      <td>347.867548</td>\n",
       "      <td>193.766877</td>\n",
       "      <td>1.332349</td>\n",
       "      <td>230.655925</td>\n",
       "      <td>336.000000</td>\n",
       "      <td>456.488343</td>\n",
       "      <td>1261.943541</td>\n",
       "    </tr>\n",
       "    <tr>\n",
       "      <th>SUV</th>\n",
       "      <td>963.0</td>\n",
       "      <td>573.174610</td>\n",
       "      <td>289.953148</td>\n",
       "      <td>0.517753</td>\n",
       "      <td>412.467956</td>\n",
       "      <td>556.800000</td>\n",
       "      <td>734.400000</td>\n",
       "      <td>1654.202174</td>\n",
       "    </tr>\n",
       "    <tr>\n",
       "      <th>Sports Car</th>\n",
       "      <td>262.0</td>\n",
       "      <td>550.563401</td>\n",
       "      <td>299.232668</td>\n",
       "      <td>5.573179</td>\n",
       "      <td>343.433805</td>\n",
       "      <td>556.800000</td>\n",
       "      <td>706.592595</td>\n",
       "      <td>1516.383753</td>\n",
       "    </tr>\n",
       "    <tr>\n",
       "      <th>Luxury SUV</th>\n",
       "      <td>101.0</td>\n",
       "      <td>1059.876385</td>\n",
       "      <td>518.991688</td>\n",
       "      <td>1.587888</td>\n",
       "      <td>825.657746</td>\n",
       "      <td>998.400000</td>\n",
       "      <td>1328.839129</td>\n",
       "      <td>2552.343856</td>\n",
       "    </tr>\n",
       "    <tr>\n",
       "      <th>Luxury Car</th>\n",
       "      <td>101.0</td>\n",
       "      <td>1103.927488</td>\n",
       "      <td>518.906203</td>\n",
       "      <td>32.874675</td>\n",
       "      <td>873.600000</td>\n",
       "      <td>1008.569798</td>\n",
       "      <td>1396.702365</td>\n",
       "      <td>2759.794354</td>\n",
       "    </tr>\n",
       "  </tbody>\n",
       "</table>\n",
       "</div>"
      ],
      "text/plain": [
       "                count         mean         std        min         25%  \\\n",
       "Vehicle Class                                                           \n",
       "Four-Door Car  2565.0   346.106756  198.864261   0.423310  208.885686   \n",
       "Two-Door Car   1059.0   347.867548  193.766877   1.332349  230.655925   \n",
       "SUV             963.0   573.174610  289.953148   0.517753  412.467956   \n",
       "Sports Car      262.0   550.563401  299.232668   5.573179  343.433805   \n",
       "Luxury SUV      101.0  1059.876385  518.991688   1.587888  825.657746   \n",
       "Luxury Car      101.0  1103.927488  518.906203  32.874675  873.600000   \n",
       "\n",
       "                       50%          75%          max  \n",
       "Vehicle Class                                         \n",
       "Four-Door Car   336.000000   454.358500  1310.461580  \n",
       "Two-Door Car    336.000000   456.488343  1261.943541  \n",
       "SUV             556.800000   734.400000  1654.202174  \n",
       "Sports Car      556.800000   706.592595  1516.383753  \n",
       "Luxury SUV      998.400000  1328.839129  2552.343856  \n",
       "Luxury Car     1008.569798  1396.702365  2759.794354  "
      ]
     },
     "execution_count": 24,
     "metadata": {},
     "output_type": "execute_result"
    }
   ],
   "source": [
    "# statistik deskriptif terhadap kolom \"Total Claim Amount\" berdasarkan kelompok kendaraan (\"Vehicle Class\")\n",
    "df.groupby(\"Vehicle Class\")[\"Total Claim Amount\"].describe().sort_values(\"50%\")"
   ]
  },
  {
   "cell_type": "markdown",
   "id": "ef447690",
   "metadata": {},
   "source": [
    "ketika data outilers pada variabel Total Claim Amount dihapus (dengan nilai batas atas = 992.6433477500001 Dollar), tidak ada kelas pada variabel kategorik yang terhapus. Akan tetapi, data pada kelas Luxury Car dan Luxury SUV, dengan nilai median Total Claim Amount masing-masing kelas 998.400000 Dollar dan 1008.569798 Dollar, lebih dari setengah data pada kelas tersebut dihapus. Untuk itu, sebaiknya tindakan penghapusan data outliers pada variabel Total Claim Amount jangan dilakukan, kecuali jika hasil dari model kurang memuaskan."
   ]
  },
  {
   "cell_type": "markdown",
   "id": "78f039dc",
   "metadata": {},
   "source": [
    "kesimpulan : \n",
    "- Outlayer pada CLV di hapus karena fokus pada customer dengan clv <20000 agar bisa melakukan up selling atau cross selling untuk menaikan income dan profit perusahaan. Untuk Outlier variabel Total Klaim Amount, dan Monthly Premium Auto tidak dihapus karena setelah melihat statistik deskriptif terhadap kolom Total Klaim Amount, dan Monthly Premium Auto berdasarkan kelompok kendaraan (\"Vehicle Class\") ada pertimbangan pada kolom Luxury Car dan Luxury SUV."
   ]
  },
  {
   "cell_type": "markdown",
   "id": "73930bb3",
   "metadata": {},
   "source": [
    "## 4. Modeling"
   ]
  },
  {
   "cell_type": "code",
   "execution_count": 25,
   "id": "3f4bb2a8",
   "metadata": {},
   "outputs": [],
   "source": [
    "# Import library untuk modeling\n",
    "\n",
    "from sklearn.model_selection import train_test_split, cross_val_score, RandomizedSearchCV, GridSearchCV, KFold\n",
    "\n",
    "import category_encoders as ce\n",
    "from sklearn.preprocessing import OneHotEncoder\n",
    "from sklearn.compose import ColumnTransformer\n",
    "from sklearn.pipeline import Pipeline\n",
    "\n",
    "from sklearn.linear_model import LinearRegression\n",
    "from sklearn.neighbors import KNeighborsRegressor\n",
    "from sklearn.tree import DecisionTreeRegressor\n",
    "from sklearn.ensemble import RandomForestRegressor\n",
    "from xgboost.sklearn import XGBRegressor\n",
    "from sklearn.compose import TransformedTargetRegressor\n",
    "\n",
    "from sklearn.preprocessing import StandardScaler\n",
    "\n",
    "from sklearn.metrics import r2_score, mean_squared_error, mean_absolute_error, mean_absolute_percentage_error\n",
    "from sklearn.ensemble import RandomForestRegressor, AdaBoostRegressor, GradientBoostingRegressor\n",
    "from xgboost.sklearn import XGBRegressor\n",
    "from sklearn.preprocessing import StandardScaler, RobustScaler, MinMaxScaler\n",
    "from catboost import CatBoostRegressor\n",
    "from sklearn.ensemble import AdaBoostRegressor\n",
    "\n",
    "from sklearn.compose import TransformedTargetRegressor\n",
    "from sklearn.metrics import mean_absolute_error, mean_absolute_percentage_error\n",
    "\n",
    "from sklearn.metrics import r2_score, mean_absolute_error, mean_absolute_percentage_error"
   ]
  },
  {
   "cell_type": "markdown",
   "id": "826271ed",
   "metadata": {},
   "source": [
    "**Encoding**\n",
    "\n",
    "Agar dapat menggunakan semua fitur, maka fitur-fitur kategorikal harus diubah menjadi fitur numerikal. Kita dapat menggunakan ColumnTransformer untuk dapat mengubah tipe datanya, yang mana nanti dapat diaplikasikan pada pipeline model."
   ]
  },
  {
   "cell_type": "code",
   "execution_count": 26,
   "id": "3d257508",
   "metadata": {},
   "outputs": [],
   "source": [
    "import category_encoders as ce\n",
    "from sklearn.preprocessing import OneHotEncoder, MinMaxScaler\n",
    "from sklearn.compose import ColumnTransformer\n",
    "from sklearn.pipeline import Pipeline\n",
    "from sklearn.preprocessing import PolynomialFeatures\n",
    "\n",
    "# Mapping digunakan untuk ordinal encoder\n",
    "coverage_mapping = [{\"col\" : \"Coverage\",\n",
    "                   \"mapping\" : {None : 0, \"Basic\" : 1,\"Extended\" : 2, \"Premium\" : 3}}]\n",
    "rot_mapping = [{\"col\" : \"Renew Offer Type\",\n",
    "                \"mapping\" : {None : 0, \"Offer1\" : 1,\"Offer2\" : 2, \"Offer3\" : 3, \"Offer4\" : 4}}]\n",
    "education_mapping = [{\"col\" : \"Education\",\n",
    "                      \"mapping\" : {None : 0, \"High School or Below\" : 1,\"College\" : 2, \"Bachelor\" : 3, \"Master\" : 4, \"Doctor\" : 5}}]\n",
    "\n",
    "\n",
    "transformer = ColumnTransformer([\n",
    "    (\"onehot\", OneHotEncoder(drop = \"first\"), [\"Vehicle Class\", \"Employment Status\", \"Marital Status\"]), # Onehot encoder untuk data nominal\n",
    "    (\"coverage_ordinal\", ce.OrdinalEncoder(mapping = coverage_mapping), [\"Coverage\"]),                   # Ordinal encoder untuk data ordinal\n",
    "    (\"rot_ordinal\", ce.OrdinalEncoder(mapping = rot_mapping), [\"Renew Offer Type\"]),                     # ---------------//-----------------\n",
    "    (\"education_ordinal\", ce.OrdinalEncoder(mapping = education_mapping), [\"Education\"])                 # ---------------//-----------------\n",
    "], remainder = \"passthrough\")"
   ]
  },
  {
   "cell_type": "markdown",
   "id": "61d9a031",
   "metadata": {},
   "source": [
    "**Data Splitting**"
   ]
  },
  {
   "cell_type": "code",
   "execution_count": 27,
   "id": "173840c0",
   "metadata": {},
   "outputs": [],
   "source": [
    "# Membagi data menjadi 2, yaitu Feature dan Data Target\n",
    "Feature = df_model.drop(columns='Customer Lifetime Value')\n",
    "Target = df_model['Customer Lifetime Value']"
   ]
  },
  {
   "cell_type": "code",
   "execution_count": 28,
   "id": "d99504e7",
   "metadata": {},
   "outputs": [
    {
     "name": "stdout",
     "output_type": "stream",
     "text": [
      "(3681, 10)\n",
      "(3681,)\n",
      "(921, 10)\n",
      "(921,)\n"
     ]
    }
   ],
   "source": [
    "# Membagi data menjadi 2, yaitu Data Train dan Data Test\n",
    "X_train, X_test, y_train, y_test = train_test_split(Feature,\n",
    "                                                    Target,\n",
    "                                                    test_size=0.2,\n",
    "                                                    random_state=48)\n",
    "\n",
    "print(X_train.shape)\n",
    "print(y_train.shape)\n",
    "print(X_test.shape)\n",
    "print(y_test.shape)"
   ]
  },
  {
   "cell_type": "markdown",
   "id": "4b538f4b",
   "metadata": {},
   "source": [
    "Membuat Column transformer yang berisikan Encoder dan metode yang digunakan adalah One Hot Encoder, OHE berfungsi untuk merepresentasikan nilai dalam variabel kategorik kedalam bentuk value numerik. Selanjutnya menerapkannya kedalam semua Data kategorik dalam X_train."
   ]
  },
  {
   "cell_type": "code",
   "execution_count": 29,
   "id": "cdb6ec57",
   "metadata": {},
   "outputs": [],
   "source": [
    "# Mengubah value fitur kategorikal menjadi numerikal (Encode)\n",
    "transformer = ColumnTransformer([\n",
    "    ('One Hot', OneHotEncoder(drop='first'), X_train.select_dtypes('object').columns)\n",
    "    ], remainder='passthrough')"
   ]
  },
  {
   "cell_type": "markdown",
   "id": "33294bab",
   "metadata": {},
   "source": [
    "**Benchmark Model**"
   ]
  },
  {
   "cell_type": "markdown",
   "id": "ae311b8e",
   "metadata": {},
   "source": [
    "Model Benchmarking adalah proses membandingkan kinerja berbagai model dengan tujuan untuk menentukan model dengan parameter default terbaik yang memiliki nilai RMSE MAPE dan MAE terbaik.\n"
   ]
  },
  {
   "cell_type": "code",
   "execution_count": 30,
   "id": "4b11205c",
   "metadata": {},
   "outputs": [
    {
     "name": "stdout",
     "output_type": "stream",
     "text": [
      "[-2634.58948937 -2921.17277794 -2864.98432769 -2853.05014352\n",
      " -2745.77780041] LinearRegression()\n",
      "[-2077.44062555 -2167.07824736 -2110.33026748 -2097.40672608\n",
      " -2064.29164291] LinearRegression()\n",
      "[-0.39514033 -0.37759361 -0.37781885 -0.37846954 -0.38674305] LinearRegression()\n",
      "[-2711.40581766 -2927.06088049 -2793.89808468 -2773.83064897\n",
      " -2801.33993858] KNeighborsRegressor()\n",
      "[-1882.21034802 -1943.22000906 -1924.24526143 -1869.7351337\n",
      " -1899.54295378] KNeighborsRegressor()\n",
      "[-0.36489419 -0.34091823 -0.36069223 -0.33487139 -0.35146547] KNeighborsRegressor()\n",
      "[-1219.26672209 -1400.82672336 -1258.30345286 -1345.98539415\n",
      " -1226.23027196] DecisionTreeRegressor(random_state=48)\n",
      "[-427.99339011 -502.35519462 -448.39341375 -477.84581948 -438.54527134] DecisionTreeRegressor(random_state=48)\n",
      "[-0.05717378 -0.05873076 -0.05276036 -0.05548964 -0.05481966] DecisionTreeRegressor(random_state=48)\n",
      "[ -820.7739845  -1054.76630163 -1078.93900973 -1063.07204022\n",
      "  -909.2568949 ] RandomForestRegressor(random_state=48)\n",
      "[-339.72121067 -416.30400737 -424.14164012 -383.03150662 -344.17026486] RandomForestRegressor(random_state=48)\n",
      "[-0.04515278 -0.04770056 -0.04836179 -0.04310569 -0.04204699] RandomForestRegressor(random_state=48)\n",
      "[ -891.9919817  -1130.36012455 -1072.78752516 -1150.89677378\n",
      "  -973.72888823] XGBRegressor(base_score=None, booster=None, callbacks=None,\n",
      "             colsample_bylevel=None, colsample_bynode=None,\n",
      "             colsample_bytree=None, device=None, early_stopping_rounds=None,\n",
      "             enable_categorical=False, eval_metric=None, feature_types=None,\n",
      "             gamma=None, grow_policy=None, importance_type=None,\n",
      "             interaction_constraints=None, learning_rate=None, max_bin=None,\n",
      "             max_cat_threshold=None, max_cat_to_onehot=None,\n",
      "             max_delta_step=None, max_depth=None, max_leaves=None,\n",
      "             min_child_weight=None, missing=nan, monotone_constraints=None,\n",
      "             multi_strategy=None, n_estimators=None, n_jobs=None,\n",
      "             num_parallel_tree=None, random_state=48, ...)\n",
      "[-442.1844914  -512.61289053 -471.4037431  -469.01281978 -439.38063391] XGBRegressor(base_score=None, booster=None, callbacks=None,\n",
      "             colsample_bylevel=None, colsample_bynode=None,\n",
      "             colsample_bytree=None, device=None, early_stopping_rounds=None,\n",
      "             enable_categorical=False, eval_metric=None, feature_types=None,\n",
      "             gamma=None, grow_policy=None, importance_type=None,\n",
      "             interaction_constraints=None, learning_rate=None, max_bin=None,\n",
      "             max_cat_threshold=None, max_cat_to_onehot=None,\n",
      "             max_delta_step=None, max_depth=None, max_leaves=None,\n",
      "             min_child_weight=None, missing=nan, monotone_constraints=None,\n",
      "             multi_strategy=None, n_estimators=None, n_jobs=None,\n",
      "             num_parallel_tree=None, random_state=48, ...)\n",
      "[-0.07223397 -0.0734095  -0.06575851 -0.06284869 -0.0713043 ] XGBRegressor(base_score=None, booster=None, callbacks=None,\n",
      "             colsample_bylevel=None, colsample_bynode=None,\n",
      "             colsample_bytree=None, device=None, early_stopping_rounds=None,\n",
      "             enable_categorical=False, eval_metric=None, feature_types=None,\n",
      "             gamma=None, grow_policy=None, importance_type=None,\n",
      "             interaction_constraints=None, learning_rate=None, max_bin=None,\n",
      "             max_cat_threshold=None, max_cat_to_onehot=None,\n",
      "             max_delta_step=None, max_depth=None, max_leaves=None,\n",
      "             min_child_weight=None, missing=nan, monotone_constraints=None,\n",
      "             multi_strategy=None, n_estimators=None, n_jobs=None,\n",
      "             num_parallel_tree=None, random_state=48, ...)\n",
      "[-1396.13513191 -1440.10995554 -1460.70150592 -1435.4417407\n",
      " -1401.61423977] AdaBoostRegressor(random_state=48)\n",
      "[-1040.40893707 -1070.86286298 -1080.03447645 -1043.31387825\n",
      " -1016.8519159 ] AdaBoostRegressor(random_state=48)\n",
      "[-0.16446034 -0.15892246 -0.16201693 -0.1523111  -0.15507963] AdaBoostRegressor(random_state=48)\n",
      "[ -740.69422434 -1016.12621876 -1028.88146893 -1018.96163825\n",
      "  -874.59039669] GradientBoostingRegressor(random_state=48)\n",
      "[-389.75830646 -428.26995621 -454.83467596 -423.12622802 -386.20463541] GradientBoostingRegressor(random_state=48)\n",
      "[-0.05645509 -0.05266664 -0.05698482 -0.0531757  -0.05197349] GradientBoostingRegressor(random_state=48)\n"
     ]
    }
   ],
   "source": [
    "# Inisialisasi Algoritma\n",
    "lr = LinearRegression()\n",
    "knn = KNeighborsRegressor()\n",
    "dt = DecisionTreeRegressor(random_state=48)\n",
    "rf = RandomForestRegressor(random_state=48)\n",
    "xgb = XGBRegressor(random_state=48)\n",
    "ada = AdaBoostRegressor(random_state=48)\n",
    "gbr = GradientBoostingRegressor(random_state=48)\n",
    "# Membuat list berisi keseluruhan Algoritma yang digunakan\n",
    "models = [lr, knn, dt, rf, xgb, ada, gbr]\n",
    "\n",
    "score_rmse = []\n",
    "nilai_mean_rmse = []\n",
    "nilai_std_rmse = []\n",
    "\n",
    "score_mae = []\n",
    "nilai_mean_mae = []\n",
    "nilai_std_mae = []\n",
    "\n",
    "score_mape = []\n",
    "nilai_mean_mape = []\n",
    "nilai_std_mape = []\n",
    "\n",
    "# Mencari algoritma terbaik berdasarkan tiap metrics\n",
    "for i in models:\n",
    "    \n",
    "    crossval = KFold(n_splits=5, shuffle=True, random_state=48)\n",
    "\n",
    "    estimator = Pipeline([\n",
    "        ('preprocessing', transformer),\n",
    "        ('scaler', RobustScaler()),\n",
    "        ('model', i)\n",
    "    ])\n",
    "\n",
    "    # RMSE\n",
    "    model_cv_rmse = cross_val_score(\n",
    "        estimator, \n",
    "        X_train, \n",
    "        y_train, \n",
    "        cv=crossval, \n",
    "        scoring='neg_root_mean_squared_error'\n",
    "        )\n",
    " # MAE\n",
    "    model_cv_mae = cross_val_score(\n",
    "        estimator, \n",
    "        X_train, \n",
    "        y_train, \n",
    "        cv=crossval, \n",
    "        scoring='neg_mean_absolute_error'\n",
    "    )\n",
    "\n",
    "    # MAPE\n",
    "    model_cv_mape = cross_val_score(\n",
    "        estimator, \n",
    "        X_train, \n",
    "        y_train, \n",
    "        cv=crossval, \n",
    "        scoring='neg_mean_absolute_percentage_error'\n",
    "    )\n",
    "    print(model_cv_rmse, i)\n",
    "    print(model_cv_mae, i)\n",
    "    print(model_cv_mape, i)\n",
    "\n",
    "    score_rmse.append(model_cv_rmse)\n",
    "    nilai_mean_rmse.append(model_cv_rmse.mean())\n",
    "    nilai_std_rmse.append(model_cv_rmse.std())\n",
    "    \n",
    "    score_mae.append(model_cv_mae)\n",
    "    nilai_mean_mae.append(model_cv_mae.mean())\n",
    "    nilai_std_mae.append(model_cv_mae.std())\n",
    "\n",
    "    score_mape.append(model_cv_mape)\n",
    "    nilai_mean_mape.append(model_cv_mape.mean())\n",
    "    nilai_std_mape.append(model_cv_mape.std())"
   ]
  },
  {
   "cell_type": "code",
   "execution_count": 31,
   "id": "80d3f130",
   "metadata": {},
   "outputs": [
    {
     "data": {
      "text/html": [
       "<div>\n",
       "<style scoped>\n",
       "    .dataframe tbody tr th:only-of-type {\n",
       "        vertical-align: middle;\n",
       "    }\n",
       "\n",
       "    .dataframe tbody tr th {\n",
       "        vertical-align: top;\n",
       "    }\n",
       "\n",
       "    .dataframe thead th {\n",
       "        text-align: right;\n",
       "    }\n",
       "</style>\n",
       "<table border=\"1\" class=\"dataframe\">\n",
       "  <thead>\n",
       "    <tr style=\"text-align: right;\">\n",
       "      <th></th>\n",
       "      <th>Model</th>\n",
       "      <th>Mean_RMSE</th>\n",
       "      <th>Std_RMSE</th>\n",
       "      <th>Mean_MAE</th>\n",
       "      <th>Std_MAE</th>\n",
       "      <th>Mean_MAPE</th>\n",
       "      <th>Std_MAPE</th>\n",
       "    </tr>\n",
       "  </thead>\n",
       "  <tbody>\n",
       "    <tr>\n",
       "      <th>6</th>\n",
       "      <td>Gradient Boosting Regressor</td>\n",
       "      <td>-935.850789</td>\n",
       "      <td>113.000164</td>\n",
       "      <td>-416.438760</td>\n",
       "      <td>25.631600</td>\n",
       "      <td>-0.054251</td>\n",
       "      <td>0.002058</td>\n",
       "    </tr>\n",
       "    <tr>\n",
       "      <th>3</th>\n",
       "      <td>Random Forest Regressor</td>\n",
       "      <td>-985.361646</td>\n",
       "      <td>102.463326</td>\n",
       "      <td>-381.473726</td>\n",
       "      <td>35.131031</td>\n",
       "      <td>-0.045274</td>\n",
       "      <td>0.002472</td>\n",
       "    </tr>\n",
       "    <tr>\n",
       "      <th>4</th>\n",
       "      <td>XGBoost Regressor</td>\n",
       "      <td>-1043.953059</td>\n",
       "      <td>97.732460</td>\n",
       "      <td>-466.918916</td>\n",
       "      <td>26.391613</td>\n",
       "      <td>-0.069111</td>\n",
       "      <td>0.004086</td>\n",
       "    </tr>\n",
       "    <tr>\n",
       "      <th>2</th>\n",
       "      <td>Decision Tree Regressor</td>\n",
       "      <td>-1290.122513</td>\n",
       "      <td>71.402098</td>\n",
       "      <td>-459.026618</td>\n",
       "      <td>27.302526</td>\n",
       "      <td>-0.055795</td>\n",
       "      <td>0.002038</td>\n",
       "    </tr>\n",
       "    <tr>\n",
       "      <th>5</th>\n",
       "      <td>Ada Boost Regressor</td>\n",
       "      <td>-1426.800515</td>\n",
       "      <td>24.395915</td>\n",
       "      <td>-1050.294414</td>\n",
       "      <td>22.682079</td>\n",
       "      <td>-0.158558</td>\n",
       "      <td>0.004428</td>\n",
       "    </tr>\n",
       "    <tr>\n",
       "      <th>1</th>\n",
       "      <td>KNN Regressor</td>\n",
       "      <td>-2801.507074</td>\n",
       "      <td>70.293533</td>\n",
       "      <td>-1903.790741</td>\n",
       "      <td>26.894594</td>\n",
       "      <td>-0.350568</td>\n",
       "      <td>0.011385</td>\n",
       "    </tr>\n",
       "    <tr>\n",
       "      <th>0</th>\n",
       "      <td>Linear Regression</td>\n",
       "      <td>-2803.914908</td>\n",
       "      <td>101.925634</td>\n",
       "      <td>-2103.309502</td>\n",
       "      <td>35.615106</td>\n",
       "      <td>-0.383153</td>\n",
       "      <td>0.006898</td>\n",
       "    </tr>\n",
       "  </tbody>\n",
       "</table>\n",
       "</div>"
      ],
      "text/plain": [
       "                         Model    Mean_RMSE    Std_RMSE     Mean_MAE  \\\n",
       "6  Gradient Boosting Regressor  -935.850789  113.000164  -416.438760   \n",
       "3      Random Forest Regressor  -985.361646  102.463326  -381.473726   \n",
       "4            XGBoost Regressor -1043.953059   97.732460  -466.918916   \n",
       "2      Decision Tree Regressor -1290.122513   71.402098  -459.026618   \n",
       "5          Ada Boost Regressor -1426.800515   24.395915 -1050.294414   \n",
       "1                KNN Regressor -2801.507074   70.293533 -1903.790741   \n",
       "0            Linear Regression -2803.914908  101.925634 -2103.309502   \n",
       "\n",
       "     Std_MAE  Mean_MAPE  Std_MAPE  \n",
       "6  25.631600  -0.054251  0.002058  \n",
       "3  35.131031  -0.045274  0.002472  \n",
       "4  26.391613  -0.069111  0.004086  \n",
       "2  27.302526  -0.055795  0.002038  \n",
       "5  22.682079  -0.158558  0.004428  \n",
       "1  26.894594  -0.350568  0.011385  \n",
       "0  35.615106  -0.383153  0.006898  "
      ]
     },
     "execution_count": 31,
     "metadata": {},
     "output_type": "execute_result"
    }
   ],
   "source": [
    "# Evaluasi hasil dari 5 kandidat algoritma yang digunakan\n",
    "benchmark_model = pd.DataFrame({\n",
    "    'Model': ['Linear Regression',\n",
    "              'KNN Regressor',\n",
    "              'Decision Tree Regressor',\n",
    "              'Random Forest Regressor',\n",
    "              'XGBoost Regressor',\n",
    "              'Ada Boost Regressor',\n",
    "              'Gradient Boosting Regressor'],\n",
    "    'Mean_RMSE': nilai_mean_rmse,\n",
    "    'Std_RMSE': nilai_std_rmse,\n",
    "    'Mean_MAE': nilai_mean_mae,\n",
    "    'Std_MAE': nilai_std_mae,\n",
    "    'Mean_MAPE': nilai_mean_mape,\n",
    "    'Std_MAPE': nilai_std_mape,\n",
    "}).sort_values('Mean_RMSE', ascending=False) # diurutkan dari RMSE paling tinggi \n",
    "\n",
    "benchmark_model"
   ]
  },
  {
   "cell_type": "markdown",
   "id": "24cb2a8d",
   "metadata": {},
   "source": [
    "- Berdasarkan nilai RMSE,Gradient Boosting Regressor dan Random Forest Regressor adalah model terbaik.\n",
    "- Selanjutnya, akan dilakukan prediksi pada test set dengan 2 benchmark model terbaik. "
   ]
  },
  {
   "cell_type": "markdown",
   "id": "97118578",
   "metadata": {},
   "source": [
    "**Predict to Test Set with the Benchmark Model**\n",
    "\n",
    "Prediksi pada test set dengan menggunakan model Gradient Boosting dan Random Forest"
   ]
  },
  {
   "cell_type": "code",
   "execution_count": 32,
   "id": "75b1ea88",
   "metadata": {},
   "outputs": [
    {
     "data": {
      "text/html": [
       "<div>\n",
       "<style scoped>\n",
       "    .dataframe tbody tr th:only-of-type {\n",
       "        vertical-align: middle;\n",
       "    }\n",
       "\n",
       "    .dataframe tbody tr th {\n",
       "        vertical-align: top;\n",
       "    }\n",
       "\n",
       "    .dataframe thead th {\n",
       "        text-align: right;\n",
       "    }\n",
       "</style>\n",
       "<table border=\"1\" class=\"dataframe\">\n",
       "  <thead>\n",
       "    <tr style=\"text-align: right;\">\n",
       "      <th></th>\n",
       "      <th>RMSE</th>\n",
       "      <th>MAE</th>\n",
       "      <th>MAPE</th>\n",
       "    </tr>\n",
       "  </thead>\n",
       "  <tbody>\n",
       "    <tr>\n",
       "      <th>Gradient Boosting Regressor</th>\n",
       "      <td>848.494685</td>\n",
       "      <td>363.027468</td>\n",
       "      <td>0.048571</td>\n",
       "    </tr>\n",
       "    <tr>\n",
       "      <th>Random Forest Regressor</th>\n",
       "      <td>934.167601</td>\n",
       "      <td>367.592937</td>\n",
       "      <td>0.045825</td>\n",
       "    </tr>\n",
       "  </tbody>\n",
       "</table>\n",
       "</div>"
      ],
      "text/plain": [
       "                                   RMSE         MAE      MAPE\n",
       "Gradient Boosting Regressor  848.494685  363.027468  0.048571\n",
       "Random Forest Regressor      934.167601  367.592937  0.045825"
      ]
     },
     "execution_count": 32,
     "metadata": {},
     "output_type": "execute_result"
    }
   ],
   "source": [
    "# Benchmark 2 model terbaik\n",
    "models = {\n",
    "    'Gradient Boosting Regressor': GradientBoostingRegressor(random_state=48),\n",
    "    'Random Forest Regressor' : RandomForestRegressor(random_state=48)\n",
    "}\n",
    "\n",
    "score_rmse = []\n",
    "score_mae = []\n",
    "score_mape = []\n",
    "\n",
    "# Prediksi pada test set\n",
    "for i in models:\n",
    "\n",
    "    model = Pipeline([\n",
    "        ('preprocessing', transformer),\n",
    "        ('scaler', MinMaxScaler()),\n",
    "        ('model', models[i])\n",
    "        ])\n",
    "\n",
    "    model.fit(X_train, y_train)\n",
    "    y_pred = model.predict(X_test)\n",
    "    score_rmse.append(np.sqrt(mean_squared_error(y_test, y_pred)))\n",
    "    score_mae.append(mean_absolute_error(y_test, y_pred))\n",
    "    score_mape.append(mean_absolute_percentage_error(y_test, y_pred))\n",
    "\n",
    "score_before_tuning = pd.DataFrame({'RMSE': score_rmse, 'MAE': score_mae, 'MAPE': score_mape}, index=models.keys())\n",
    "score_before_tuning"
   ]
  },
  {
   "cell_type": "markdown",
   "id": "42a758fe",
   "metadata": {},
   "source": [
    "Dari hasil prediksi pada data test model terbaiknya adalah `Gradient Booster Regressor`. Maka langkah selanjutnya adalah melakukan Hyperparameter pada model Gradient Booster Regressor untuk tujuan menemukan parameter terbaik dari Gradient Booster Regressor."
   ]
  },
  {
   "cell_type": "markdown",
   "id": "0e1346f4",
   "metadata": {},
   "source": [
    "**Hyperparameter Tuning**"
   ]
  },
  {
   "cell_type": "markdown",
   "id": "6f3d923b",
   "metadata": {},
   "source": [
    "Hyperparameter tuning adalah proses untuk mengoptimalkan nilai suatu model dengan menemukan kombinasi parameter yang menghasilkan score terbaik. Metode Hyperparameter Tuning bekerja dengan cara melakukan percobaan berulang-ulang dengan berbagai kombinasi parameter menggunakan RandomizedSearchCV.\n",
    "\n",
    "Parameter yang diatur dari model Gradient Boosting Regressor ini adalah :\n",
    "1. kedalaman maksimum pohon (max_depth)\n",
    "2. tingkat pembelajaran (learning_rate) \n",
    "3. jumlah estimator (pohon) (n_estimators) \n",
    "4. subsample (persentase sampel yang digunakan dalam setiap pohon)\n",
    "5. fitur maksimum yang digunakan dalam pemisahan setiap pohon (max_features)\n",
    "6. 'Scaler' yang menunjukkan pilihan metode scaling, yaitu robust, standard, dan minmax."
   ]
  },
  {
   "cell_type": "code",
   "execution_count": 33,
   "id": "e8c535dc",
   "metadata": {},
   "outputs": [],
   "source": [
    "# Pipeline\n",
    "pipeline_gbr = Pipeline([\n",
    "    ('prep', transformer),\n",
    "    ('Scaler', RobustScaler()),\n",
    "    ('model', gbr)\n",
    "])\n",
    "\n",
    "# Define scaler\n",
    "standard = StandardScaler()\n",
    "minmax = MinMaxScaler()\n",
    "robust = RobustScaler()\n",
    "scaler = [standard, minmax, robust] \n",
    "\n",
    "from sklearn.model_selection import RandomizedSearchCV\n",
    "\n",
    "# Definisikan hyperparameter space\n",
    "hyperparam_space_gbr = {\n",
    "    'model__max_depth': [3, 4, 5, 6],\n",
    "    'model__learning_rate': [0.01, 0.025, 0.05, 0.1],\n",
    "    'model__n_estimators': [200, 300, 400, 500],\n",
    "    'model__subsample': [0.6, 0.7, 0.8, 0.9],\n",
    "    'model__max_features': [0.4, 0.5, 0.6, 0.7],\n",
    "    'Scaler' : scaler\n",
    "}\n",
    "\n",
    "# Gunakan RandomizedSearchCV\n",
    "random_gbr = RandomizedSearchCV(\n",
    "    pipeline_gbr,\n",
    "    param_distributions=hyperparam_space_gbr,\n",
    "    cv = KFold(n_splits=5, shuffle=True, random_state=48), \n",
    "    scoring = 'neg_root_mean_squared_error',\n",
    "    n_jobs = -1,\n",
    "    return_train_score=True\n",
    ")\n"
   ]
  },
  {
   "cell_type": "code",
   "execution_count": 34,
   "id": "d1bb9ba0",
   "metadata": {},
   "outputs": [
    {
     "data": {
      "text/html": [
       "<style>#sk-container-id-1 {color: black;}#sk-container-id-1 pre{padding: 0;}#sk-container-id-1 div.sk-toggleable {background-color: white;}#sk-container-id-1 label.sk-toggleable__label {cursor: pointer;display: block;width: 100%;margin-bottom: 0;padding: 0.3em;box-sizing: border-box;text-align: center;}#sk-container-id-1 label.sk-toggleable__label-arrow:before {content: \"▸\";float: left;margin-right: 0.25em;color: #696969;}#sk-container-id-1 label.sk-toggleable__label-arrow:hover:before {color: black;}#sk-container-id-1 div.sk-estimator:hover label.sk-toggleable__label-arrow:before {color: black;}#sk-container-id-1 div.sk-toggleable__content {max-height: 0;max-width: 0;overflow: hidden;text-align: left;background-color: #f0f8ff;}#sk-container-id-1 div.sk-toggleable__content pre {margin: 0.2em;color: black;border-radius: 0.25em;background-color: #f0f8ff;}#sk-container-id-1 input.sk-toggleable__control:checked~div.sk-toggleable__content {max-height: 200px;max-width: 100%;overflow: auto;}#sk-container-id-1 input.sk-toggleable__control:checked~label.sk-toggleable__label-arrow:before {content: \"▾\";}#sk-container-id-1 div.sk-estimator input.sk-toggleable__control:checked~label.sk-toggleable__label {background-color: #d4ebff;}#sk-container-id-1 div.sk-label input.sk-toggleable__control:checked~label.sk-toggleable__label {background-color: #d4ebff;}#sk-container-id-1 input.sk-hidden--visually {border: 0;clip: rect(1px 1px 1px 1px);clip: rect(1px, 1px, 1px, 1px);height: 1px;margin: -1px;overflow: hidden;padding: 0;position: absolute;width: 1px;}#sk-container-id-1 div.sk-estimator {font-family: monospace;background-color: #f0f8ff;border: 1px dotted black;border-radius: 0.25em;box-sizing: border-box;margin-bottom: 0.5em;}#sk-container-id-1 div.sk-estimator:hover {background-color: #d4ebff;}#sk-container-id-1 div.sk-parallel-item::after {content: \"\";width: 100%;border-bottom: 1px solid gray;flex-grow: 1;}#sk-container-id-1 div.sk-label:hover label.sk-toggleable__label {background-color: #d4ebff;}#sk-container-id-1 div.sk-serial::before {content: \"\";position: absolute;border-left: 1px solid gray;box-sizing: border-box;top: 0;bottom: 0;left: 50%;z-index: 0;}#sk-container-id-1 div.sk-serial {display: flex;flex-direction: column;align-items: center;background-color: white;padding-right: 0.2em;padding-left: 0.2em;position: relative;}#sk-container-id-1 div.sk-item {position: relative;z-index: 1;}#sk-container-id-1 div.sk-parallel {display: flex;align-items: stretch;justify-content: center;background-color: white;position: relative;}#sk-container-id-1 div.sk-item::before, #sk-container-id-1 div.sk-parallel-item::before {content: \"\";position: absolute;border-left: 1px solid gray;box-sizing: border-box;top: 0;bottom: 0;left: 50%;z-index: -1;}#sk-container-id-1 div.sk-parallel-item {display: flex;flex-direction: column;z-index: 1;position: relative;background-color: white;}#sk-container-id-1 div.sk-parallel-item:first-child::after {align-self: flex-end;width: 50%;}#sk-container-id-1 div.sk-parallel-item:last-child::after {align-self: flex-start;width: 50%;}#sk-container-id-1 div.sk-parallel-item:only-child::after {width: 0;}#sk-container-id-1 div.sk-dashed-wrapped {border: 1px dashed gray;margin: 0 0.4em 0.5em 0.4em;box-sizing: border-box;padding-bottom: 0.4em;background-color: white;}#sk-container-id-1 div.sk-label label {font-family: monospace;font-weight: bold;display: inline-block;line-height: 1.2em;}#sk-container-id-1 div.sk-label-container {text-align: center;}#sk-container-id-1 div.sk-container {/* jupyter's `normalize.less` sets `[hidden] { display: none; }` but bootstrap.min.css set `[hidden] { display: none !important; }` so we also need the `!important` here to be able to override the default hidden behavior on the sphinx rendered scikit-learn.org. See: https://github.com/scikit-learn/scikit-learn/issues/21755 */display: inline-block !important;position: relative;}#sk-container-id-1 div.sk-text-repr-fallback {display: none;}</style><div id=\"sk-container-id-1\" class=\"sk-top-container\"><div class=\"sk-text-repr-fallback\"><pre>RandomizedSearchCV(cv=KFold(n_splits=5, random_state=48, shuffle=True),\n",
       "                   estimator=Pipeline(steps=[(&#x27;prep&#x27;,\n",
       "                                              ColumnTransformer(remainder=&#x27;passthrough&#x27;,\n",
       "                                                                transformers=[(&#x27;One &#x27;\n",
       "                                                                               &#x27;Hot&#x27;,\n",
       "                                                                               OneHotEncoder(drop=&#x27;first&#x27;),\n",
       "                                                                               Index([&#x27;Vehicle Class&#x27;, &#x27;Coverage&#x27;, &#x27;Renew Offer Type&#x27;, &#x27;EmploymentStatus&#x27;,\n",
       "       &#x27;Marital Status&#x27;, &#x27;Education&#x27;],\n",
       "      dtype=&#x27;object&#x27;))])),\n",
       "                                             (&#x27;Scaler&#x27;, RobustScaler()),\n",
       "                                             (&#x27;model&#x27;,\n",
       "                                              GradientBoostingRegressor(random_state=48))]),\n",
       "                   n_jobs=-1,\n",
       "                   param_distributions={&#x27;Scaler&#x27;: [StandardScaler(),\n",
       "                                                   MinMaxScaler(),\n",
       "                                                   RobustScaler()],\n",
       "                                        &#x27;model__learning_rate&#x27;: [0.01, 0.025,\n",
       "                                                                 0.05, 0.1],\n",
       "                                        &#x27;model__max_depth&#x27;: [3, 4, 5, 6],\n",
       "                                        &#x27;model__max_features&#x27;: [0.4, 0.5, 0.6,\n",
       "                                                                0.7],\n",
       "                                        &#x27;model__n_estimators&#x27;: [200, 300, 400,\n",
       "                                                                500],\n",
       "                                        &#x27;model__subsample&#x27;: [0.6, 0.7, 0.8,\n",
       "                                                             0.9]},\n",
       "                   return_train_score=True,\n",
       "                   scoring=&#x27;neg_root_mean_squared_error&#x27;)</pre><b>In a Jupyter environment, please rerun this cell to show the HTML representation or trust the notebook. <br />On GitHub, the HTML representation is unable to render, please try loading this page with nbviewer.org.</b></div><div class=\"sk-container\" hidden><div class=\"sk-item sk-dashed-wrapped\"><div class=\"sk-label-container\"><div class=\"sk-label sk-toggleable\"><input class=\"sk-toggleable__control sk-hidden--visually\" id=\"sk-estimator-id-1\" type=\"checkbox\" ><label for=\"sk-estimator-id-1\" class=\"sk-toggleable__label sk-toggleable__label-arrow\">RandomizedSearchCV</label><div class=\"sk-toggleable__content\"><pre>RandomizedSearchCV(cv=KFold(n_splits=5, random_state=48, shuffle=True),\n",
       "                   estimator=Pipeline(steps=[(&#x27;prep&#x27;,\n",
       "                                              ColumnTransformer(remainder=&#x27;passthrough&#x27;,\n",
       "                                                                transformers=[(&#x27;One &#x27;\n",
       "                                                                               &#x27;Hot&#x27;,\n",
       "                                                                               OneHotEncoder(drop=&#x27;first&#x27;),\n",
       "                                                                               Index([&#x27;Vehicle Class&#x27;, &#x27;Coverage&#x27;, &#x27;Renew Offer Type&#x27;, &#x27;EmploymentStatus&#x27;,\n",
       "       &#x27;Marital Status&#x27;, &#x27;Education&#x27;],\n",
       "      dtype=&#x27;object&#x27;))])),\n",
       "                                             (&#x27;Scaler&#x27;, RobustScaler()),\n",
       "                                             (&#x27;model&#x27;,\n",
       "                                              GradientBoostingRegressor(random_state=48))]),\n",
       "                   n_jobs=-1,\n",
       "                   param_distributions={&#x27;Scaler&#x27;: [StandardScaler(),\n",
       "                                                   MinMaxScaler(),\n",
       "                                                   RobustScaler()],\n",
       "                                        &#x27;model__learning_rate&#x27;: [0.01, 0.025,\n",
       "                                                                 0.05, 0.1],\n",
       "                                        &#x27;model__max_depth&#x27;: [3, 4, 5, 6],\n",
       "                                        &#x27;model__max_features&#x27;: [0.4, 0.5, 0.6,\n",
       "                                                                0.7],\n",
       "                                        &#x27;model__n_estimators&#x27;: [200, 300, 400,\n",
       "                                                                500],\n",
       "                                        &#x27;model__subsample&#x27;: [0.6, 0.7, 0.8,\n",
       "                                                             0.9]},\n",
       "                   return_train_score=True,\n",
       "                   scoring=&#x27;neg_root_mean_squared_error&#x27;)</pre></div></div></div><div class=\"sk-parallel\"><div class=\"sk-parallel-item\"><div class=\"sk-item\"><div class=\"sk-label-container\"><div class=\"sk-label sk-toggleable\"><input class=\"sk-toggleable__control sk-hidden--visually\" id=\"sk-estimator-id-2\" type=\"checkbox\" ><label for=\"sk-estimator-id-2\" class=\"sk-toggleable__label sk-toggleable__label-arrow\">estimator: Pipeline</label><div class=\"sk-toggleable__content\"><pre>Pipeline(steps=[(&#x27;prep&#x27;,\n",
       "                 ColumnTransformer(remainder=&#x27;passthrough&#x27;,\n",
       "                                   transformers=[(&#x27;One Hot&#x27;,\n",
       "                                                  OneHotEncoder(drop=&#x27;first&#x27;),\n",
       "                                                  Index([&#x27;Vehicle Class&#x27;, &#x27;Coverage&#x27;, &#x27;Renew Offer Type&#x27;, &#x27;EmploymentStatus&#x27;,\n",
       "       &#x27;Marital Status&#x27;, &#x27;Education&#x27;],\n",
       "      dtype=&#x27;object&#x27;))])),\n",
       "                (&#x27;Scaler&#x27;, RobustScaler()),\n",
       "                (&#x27;model&#x27;, GradientBoostingRegressor(random_state=48))])</pre></div></div></div><div class=\"sk-serial\"><div class=\"sk-item\"><div class=\"sk-serial\"><div class=\"sk-item sk-dashed-wrapped\"><div class=\"sk-label-container\"><div class=\"sk-label sk-toggleable\"><input class=\"sk-toggleable__control sk-hidden--visually\" id=\"sk-estimator-id-3\" type=\"checkbox\" ><label for=\"sk-estimator-id-3\" class=\"sk-toggleable__label sk-toggleable__label-arrow\">prep: ColumnTransformer</label><div class=\"sk-toggleable__content\"><pre>ColumnTransformer(remainder=&#x27;passthrough&#x27;,\n",
       "                  transformers=[(&#x27;One Hot&#x27;, OneHotEncoder(drop=&#x27;first&#x27;),\n",
       "                                 Index([&#x27;Vehicle Class&#x27;, &#x27;Coverage&#x27;, &#x27;Renew Offer Type&#x27;, &#x27;EmploymentStatus&#x27;,\n",
       "       &#x27;Marital Status&#x27;, &#x27;Education&#x27;],\n",
       "      dtype=&#x27;object&#x27;))])</pre></div></div></div><div class=\"sk-parallel\"><div class=\"sk-parallel-item\"><div class=\"sk-item\"><div class=\"sk-label-container\"><div class=\"sk-label sk-toggleable\"><input class=\"sk-toggleable__control sk-hidden--visually\" id=\"sk-estimator-id-4\" type=\"checkbox\" ><label for=\"sk-estimator-id-4\" class=\"sk-toggleable__label sk-toggleable__label-arrow\">One Hot</label><div class=\"sk-toggleable__content\"><pre>Index([&#x27;Vehicle Class&#x27;, &#x27;Coverage&#x27;, &#x27;Renew Offer Type&#x27;, &#x27;EmploymentStatus&#x27;,\n",
       "       &#x27;Marital Status&#x27;, &#x27;Education&#x27;],\n",
       "      dtype=&#x27;object&#x27;)</pre></div></div></div><div class=\"sk-serial\"><div class=\"sk-item\"><div class=\"sk-estimator sk-toggleable\"><input class=\"sk-toggleable__control sk-hidden--visually\" id=\"sk-estimator-id-5\" type=\"checkbox\" ><label for=\"sk-estimator-id-5\" class=\"sk-toggleable__label sk-toggleable__label-arrow\">OneHotEncoder</label><div class=\"sk-toggleable__content\"><pre>OneHotEncoder(drop=&#x27;first&#x27;)</pre></div></div></div></div></div></div><div class=\"sk-parallel-item\"><div class=\"sk-item\"><div class=\"sk-label-container\"><div class=\"sk-label sk-toggleable\"><input class=\"sk-toggleable__control sk-hidden--visually\" id=\"sk-estimator-id-6\" type=\"checkbox\" ><label for=\"sk-estimator-id-6\" class=\"sk-toggleable__label sk-toggleable__label-arrow\">remainder</label><div class=\"sk-toggleable__content\"><pre>[&#x27;Number of Policies&#x27;, &#x27;Monthly Premium Auto&#x27;, &#x27;Total Claim Amount&#x27;, &#x27;Income&#x27;]</pre></div></div></div><div class=\"sk-serial\"><div class=\"sk-item\"><div class=\"sk-estimator sk-toggleable\"><input class=\"sk-toggleable__control sk-hidden--visually\" id=\"sk-estimator-id-7\" type=\"checkbox\" ><label for=\"sk-estimator-id-7\" class=\"sk-toggleable__label sk-toggleable__label-arrow\">passthrough</label><div class=\"sk-toggleable__content\"><pre>passthrough</pre></div></div></div></div></div></div></div></div><div class=\"sk-item\"><div class=\"sk-estimator sk-toggleable\"><input class=\"sk-toggleable__control sk-hidden--visually\" id=\"sk-estimator-id-8\" type=\"checkbox\" ><label for=\"sk-estimator-id-8\" class=\"sk-toggleable__label sk-toggleable__label-arrow\">RobustScaler</label><div class=\"sk-toggleable__content\"><pre>RobustScaler()</pre></div></div></div><div class=\"sk-item\"><div class=\"sk-estimator sk-toggleable\"><input class=\"sk-toggleable__control sk-hidden--visually\" id=\"sk-estimator-id-9\" type=\"checkbox\" ><label for=\"sk-estimator-id-9\" class=\"sk-toggleable__label sk-toggleable__label-arrow\">GradientBoostingRegressor</label><div class=\"sk-toggleable__content\"><pre>GradientBoostingRegressor(random_state=48)</pre></div></div></div></div></div></div></div></div></div></div></div></div>"
      ],
      "text/plain": [
       "RandomizedSearchCV(cv=KFold(n_splits=5, random_state=48, shuffle=True),\n",
       "                   estimator=Pipeline(steps=[('prep',\n",
       "                                              ColumnTransformer(remainder='passthrough',\n",
       "                                                                transformers=[('One '\n",
       "                                                                               'Hot',\n",
       "                                                                               OneHotEncoder(drop='first'),\n",
       "                                                                               Index(['Vehicle Class', 'Coverage', 'Renew Offer Type', 'EmploymentStatus',\n",
       "       'Marital Status', 'Education'],\n",
       "      dtype='object'))])),\n",
       "                                             ('Scaler', RobustScaler()),\n",
       "                                             ('model',\n",
       "                                              GradientBoostingRegressor(random_state=48))]),\n",
       "                   n_jobs=-1,\n",
       "                   param_distributions={'Scaler': [StandardScaler(),\n",
       "                                                   MinMaxScaler(),\n",
       "                                                   RobustScaler()],\n",
       "                                        'model__learning_rate': [0.01, 0.025,\n",
       "                                                                 0.05, 0.1],\n",
       "                                        'model__max_depth': [3, 4, 5, 6],\n",
       "                                        'model__max_features': [0.4, 0.5, 0.6,\n",
       "                                                                0.7],\n",
       "                                        'model__n_estimators': [200, 300, 400,\n",
       "                                                                500],\n",
       "                                        'model__subsample': [0.6, 0.7, 0.8,\n",
       "                                                             0.9]},\n",
       "                   return_train_score=True,\n",
       "                   scoring='neg_root_mean_squared_error')"
      ]
     },
     "execution_count": 34,
     "metadata": {},
     "output_type": "execute_result"
    }
   ],
   "source": [
    "# Melakukan fit kepada data train untuk menemukan settingan parameter terbaik.\n",
    "random_gbr.fit(X_train, y_train)"
   ]
  },
  {
   "cell_type": "code",
   "execution_count": 35,
   "id": "7d04c2ca",
   "metadata": {},
   "outputs": [
    {
     "data": {
      "text/plain": [
       "-944.467921912728"
      ]
     },
     "execution_count": 35,
     "metadata": {},
     "output_type": "execute_result"
    }
   ],
   "source": [
    "# Melihat nilai terbaik dari berbagai kombinasi parameter.\n",
    "random_gbr.best_score_"
   ]
  },
  {
   "cell_type": "code",
   "execution_count": 36,
   "id": "dc1261f1",
   "metadata": {},
   "outputs": [
    {
     "data": {
      "text/plain": [
       "{'model__subsample': 0.6,\n",
       " 'model__n_estimators': 200,\n",
       " 'model__max_features': 0.6,\n",
       " 'model__max_depth': 5,\n",
       " 'model__learning_rate': 0.025,\n",
       " 'Scaler': MinMaxScaler()}"
      ]
     },
     "execution_count": 36,
     "metadata": {},
     "output_type": "execute_result"
    }
   ],
   "source": [
    "random_gbr.best_params_"
   ]
  },
  {
   "cell_type": "code",
   "execution_count": 37,
   "id": "db1992a0",
   "metadata": {},
   "outputs": [
    {
     "data": {
      "text/html": [
       "<div>\n",
       "<style scoped>\n",
       "    .dataframe tbody tr th:only-of-type {\n",
       "        vertical-align: middle;\n",
       "    }\n",
       "\n",
       "    .dataframe tbody tr th {\n",
       "        vertical-align: top;\n",
       "    }\n",
       "\n",
       "    .dataframe thead th {\n",
       "        text-align: right;\n",
       "    }\n",
       "</style>\n",
       "<table border=\"1\" class=\"dataframe\">\n",
       "  <thead>\n",
       "    <tr style=\"text-align: right;\">\n",
       "      <th></th>\n",
       "      <th>mean_fit_time</th>\n",
       "      <th>std_fit_time</th>\n",
       "      <th>mean_score_time</th>\n",
       "      <th>std_score_time</th>\n",
       "      <th>param_model__subsample</th>\n",
       "      <th>param_model__n_estimators</th>\n",
       "      <th>param_model__max_features</th>\n",
       "      <th>param_model__max_depth</th>\n",
       "      <th>param_model__learning_rate</th>\n",
       "      <th>param_Scaler</th>\n",
       "      <th>...</th>\n",
       "      <th>mean_test_score</th>\n",
       "      <th>std_test_score</th>\n",
       "      <th>rank_test_score</th>\n",
       "      <th>split0_train_score</th>\n",
       "      <th>split1_train_score</th>\n",
       "      <th>split2_train_score</th>\n",
       "      <th>split3_train_score</th>\n",
       "      <th>split4_train_score</th>\n",
       "      <th>mean_train_score</th>\n",
       "      <th>std_train_score</th>\n",
       "    </tr>\n",
       "  </thead>\n",
       "  <tbody>\n",
       "    <tr>\n",
       "      <th>0</th>\n",
       "      <td>2.498974</td>\n",
       "      <td>0.109311</td>\n",
       "      <td>0.028031</td>\n",
       "      <td>0.006208</td>\n",
       "      <td>0.6</td>\n",
       "      <td>200</td>\n",
       "      <td>0.6</td>\n",
       "      <td>5</td>\n",
       "      <td>0.025</td>\n",
       "      <td>MinMaxScaler()</td>\n",
       "      <td>...</td>\n",
       "      <td>-944.467922</td>\n",
       "      <td>132.456945</td>\n",
       "      <td>1</td>\n",
       "      <td>-802.476232</td>\n",
       "      <td>-751.012405</td>\n",
       "      <td>-730.401693</td>\n",
       "      <td>-730.539644</td>\n",
       "      <td>-780.396064</td>\n",
       "      <td>-758.965208</td>\n",
       "      <td>28.424021</td>\n",
       "    </tr>\n",
       "    <tr>\n",
       "      <th>6</th>\n",
       "      <td>1.456033</td>\n",
       "      <td>0.015894</td>\n",
       "      <td>0.018909</td>\n",
       "      <td>0.006169</td>\n",
       "      <td>0.8</td>\n",
       "      <td>200</td>\n",
       "      <td>0.4</td>\n",
       "      <td>4</td>\n",
       "      <td>0.025</td>\n",
       "      <td>RobustScaler()</td>\n",
       "      <td>...</td>\n",
       "      <td>-955.712699</td>\n",
       "      <td>128.972012</td>\n",
       "      <td>2</td>\n",
       "      <td>-925.555359</td>\n",
       "      <td>-866.867961</td>\n",
       "      <td>-855.988830</td>\n",
       "      <td>-859.789898</td>\n",
       "      <td>-905.038473</td>\n",
       "      <td>-882.648104</td>\n",
       "      <td>27.657146</td>\n",
       "    </tr>\n",
       "    <tr>\n",
       "      <th>4</th>\n",
       "      <td>2.664588</td>\n",
       "      <td>0.023185</td>\n",
       "      <td>0.025098</td>\n",
       "      <td>0.007740</td>\n",
       "      <td>0.7</td>\n",
       "      <td>400</td>\n",
       "      <td>0.4</td>\n",
       "      <td>4</td>\n",
       "      <td>0.05</td>\n",
       "      <td>MinMaxScaler()</td>\n",
       "      <td>...</td>\n",
       "      <td>-964.647297</td>\n",
       "      <td>122.110942</td>\n",
       "      <td>3</td>\n",
       "      <td>-713.148678</td>\n",
       "      <td>-659.995206</td>\n",
       "      <td>-635.861299</td>\n",
       "      <td>-639.489369</td>\n",
       "      <td>-686.690985</td>\n",
       "      <td>-667.037107</td>\n",
       "      <td>29.301704</td>\n",
       "    </tr>\n",
       "    <tr>\n",
       "      <th>5</th>\n",
       "      <td>5.363987</td>\n",
       "      <td>0.063785</td>\n",
       "      <td>0.041199</td>\n",
       "      <td>0.009299</td>\n",
       "      <td>0.8</td>\n",
       "      <td>500</td>\n",
       "      <td>0.5</td>\n",
       "      <td>5</td>\n",
       "      <td>0.025</td>\n",
       "      <td>StandardScaler()</td>\n",
       "      <td>...</td>\n",
       "      <td>-970.134236</td>\n",
       "      <td>123.018473</td>\n",
       "      <td>4</td>\n",
       "      <td>-605.992581</td>\n",
       "      <td>-564.725452</td>\n",
       "      <td>-544.293732</td>\n",
       "      <td>-545.789664</td>\n",
       "      <td>-596.080135</td>\n",
       "      <td>-571.376313</td>\n",
       "      <td>25.459543</td>\n",
       "    </tr>\n",
       "    <tr>\n",
       "      <th>1</th>\n",
       "      <td>4.939011</td>\n",
       "      <td>0.197729</td>\n",
       "      <td>0.035755</td>\n",
       "      <td>0.006294</td>\n",
       "      <td>0.8</td>\n",
       "      <td>500</td>\n",
       "      <td>0.5</td>\n",
       "      <td>4</td>\n",
       "      <td>0.05</td>\n",
       "      <td>MinMaxScaler()</td>\n",
       "      <td>...</td>\n",
       "      <td>-971.994373</td>\n",
       "      <td>114.167214</td>\n",
       "      <td>5</td>\n",
       "      <td>-616.874482</td>\n",
       "      <td>-574.527035</td>\n",
       "      <td>-564.961940</td>\n",
       "      <td>-555.951091</td>\n",
       "      <td>-603.782409</td>\n",
       "      <td>-583.219391</td>\n",
       "      <td>23.272106</td>\n",
       "    </tr>\n",
       "  </tbody>\n",
       "</table>\n",
       "<p>5 rows × 26 columns</p>\n",
       "</div>"
      ],
      "text/plain": [
       "   mean_fit_time  std_fit_time  mean_score_time  std_score_time  \\\n",
       "0       2.498974      0.109311         0.028031        0.006208   \n",
       "6       1.456033      0.015894         0.018909        0.006169   \n",
       "4       2.664588      0.023185         0.025098        0.007740   \n",
       "5       5.363987      0.063785         0.041199        0.009299   \n",
       "1       4.939011      0.197729         0.035755        0.006294   \n",
       "\n",
       "  param_model__subsample param_model__n_estimators param_model__max_features  \\\n",
       "0                    0.6                       200                       0.6   \n",
       "6                    0.8                       200                       0.4   \n",
       "4                    0.7                       400                       0.4   \n",
       "5                    0.8                       500                       0.5   \n",
       "1                    0.8                       500                       0.5   \n",
       "\n",
       "  param_model__max_depth param_model__learning_rate      param_Scaler  ...  \\\n",
       "0                      5                      0.025    MinMaxScaler()  ...   \n",
       "6                      4                      0.025    RobustScaler()  ...   \n",
       "4                      4                       0.05    MinMaxScaler()  ...   \n",
       "5                      5                      0.025  StandardScaler()  ...   \n",
       "1                      4                       0.05    MinMaxScaler()  ...   \n",
       "\n",
       "  mean_test_score  std_test_score  rank_test_score  split0_train_score  \\\n",
       "0     -944.467922      132.456945                1         -802.476232   \n",
       "6     -955.712699      128.972012                2         -925.555359   \n",
       "4     -964.647297      122.110942                3         -713.148678   \n",
       "5     -970.134236      123.018473                4         -605.992581   \n",
       "1     -971.994373      114.167214                5         -616.874482   \n",
       "\n",
       "   split1_train_score  split2_train_score  split3_train_score  \\\n",
       "0         -751.012405         -730.401693         -730.539644   \n",
       "6         -866.867961         -855.988830         -859.789898   \n",
       "4         -659.995206         -635.861299         -639.489369   \n",
       "5         -564.725452         -544.293732         -545.789664   \n",
       "1         -574.527035         -564.961940         -555.951091   \n",
       "\n",
       "   split4_train_score  mean_train_score  std_train_score  \n",
       "0         -780.396064       -758.965208        28.424021  \n",
       "6         -905.038473       -882.648104        27.657146  \n",
       "4         -686.690985       -667.037107        29.301704  \n",
       "5         -596.080135       -571.376313        25.459543  \n",
       "1         -603.782409       -583.219391        23.272106  \n",
       "\n",
       "[5 rows x 26 columns]"
      ]
     },
     "execution_count": 37,
     "metadata": {},
     "output_type": "execute_result"
    }
   ],
   "source": [
    "#Melihat hasil tuning dalam bentuk dataframe\n",
    "pd.DataFrame(random_gbr.cv_results_).sort_values(by=['rank_test_score']).head()"
   ]
  },
  {
   "cell_type": "code",
   "execution_count": 38,
   "id": "02f288aa",
   "metadata": {},
   "outputs": [
    {
     "data": {
      "text/html": [
       "<div>\n",
       "<style scoped>\n",
       "    .dataframe tbody tr th:only-of-type {\n",
       "        vertical-align: middle;\n",
       "    }\n",
       "\n",
       "    .dataframe tbody tr th {\n",
       "        vertical-align: top;\n",
       "    }\n",
       "\n",
       "    .dataframe thead th {\n",
       "        text-align: right;\n",
       "    }\n",
       "</style>\n",
       "<table border=\"1\" class=\"dataframe\">\n",
       "  <thead>\n",
       "    <tr style=\"text-align: right;\">\n",
       "      <th></th>\n",
       "      <th>Gradient Boosting Regressor</th>\n",
       "      <th>RMSE</th>\n",
       "      <th>MAE</th>\n",
       "      <th>MAPE</th>\n",
       "    </tr>\n",
       "  </thead>\n",
       "  <tbody>\n",
       "    <tr>\n",
       "      <th>0</th>\n",
       "      <td>Sebelum Tuning</td>\n",
       "      <td>848.494685</td>\n",
       "      <td>848.494685</td>\n",
       "      <td>848.494685</td>\n",
       "    </tr>\n",
       "    <tr>\n",
       "      <th>1</th>\n",
       "      <td>Sesudah Tuning</td>\n",
       "      <td>847.639680</td>\n",
       "      <td>342.645294</td>\n",
       "      <td>0.043559</td>\n",
       "    </tr>\n",
       "  </tbody>\n",
       "</table>\n",
       "</div>"
      ],
      "text/plain": [
       "  Gradient Boosting Regressor        RMSE         MAE        MAPE\n",
       "0              Sebelum Tuning  848.494685  848.494685  848.494685\n",
       "1              Sesudah Tuning  847.639680  342.645294    0.043559"
      ]
     },
     "execution_count": 38,
     "metadata": {},
     "output_type": "execute_result"
    }
   ],
   "source": [
    "# Melakukan Prediksi menggunakan best parameter terhadap data test.\n",
    "# Define model terhadap estimator terbaik\n",
    "from sklearn.model_selection import RandomizedSearchCV\n",
    "gbr_tuning = random_gbr.best_estimator_\n",
    "\n",
    "# Melakukan prediksi model terhadap data test\n",
    "y_pred_gbr_tuning = gbr_tuning.predict(X_test)\n",
    "\n",
    "# Simpan nilai metrics RMSE, MAE & MAPE setelah tuning setelah tuning\n",
    "rmse_gbr_tuning = np.sqrt(mean_squared_error(y_test, y_pred_gbr_tuning))\n",
    "mae_gbr_tuning = mean_absolute_error(y_test, y_pred_gbr_tuning)\n",
    "mape_gbr_tuning = mean_absolute_percentage_error(y_test, y_pred_gbr_tuning)\n",
    "\n",
    "# Menampilkan hasil RMSE yang menurun setelah tuning\n",
    "compare_tuning_score = pd.DataFrame({\n",
    "    'Gradient Boosting Regressor': ['Sebelum Tuning', 'Sesudah Tuning'],\n",
    "    'RMSE': [score_before_tuning.iloc[0, 0], rmse_gbr_tuning],\n",
    "    'MAE':  [score_before_tuning.iloc[0, 0], mae_gbr_tuning],\n",
    "    'MAPE': [score_before_tuning.iloc[0, 0], mape_gbr_tuning]\n",
    "})\n",
    "compare_tuning_score\n",
    "\n"
   ]
  },
  {
   "cell_type": "markdown",
   "id": "179b991a",
   "metadata": {},
   "source": [
    "Model mengalami peningkatan performa (nilai RMSE, MAE & MAPE berkurang) dengan dilakukannya hyperparameter tuning"
   ]
  },
  {
   "cell_type": "code",
   "execution_count": 39,
   "id": "9b34f38d",
   "metadata": {},
   "outputs": [
    {
     "data": {
      "image/png": "[encoded data removed]",
      "text/plain": [
       "<Figure size 1000x400 with 2 Axes>"
      ]
     },
     "metadata": {
      "needs_background": "light"
     },
     "output_type": "display_data"
    }
   ],
   "source": [
    "fig, axs =  plt.subplots(1, 2, figsize=(10, 4), facecolor = \"none\")\n",
    "\n",
    "sns.scatterplot(y = y_pred_gbr_tuning, x = y_test, ax = axs[0])\n",
    "axs[0].set_xlabel(\"Actual Customer Lifetime Value\")\n",
    "axs[0].set_ylabel(\"Predicted Customer Lifetime Value\")\n",
    "\n",
    "sns.scatterplot(x = y_pred_gbr_tuning, y = y_test - y_pred_gbr_tuning, ax = axs[1])\n",
    "axs[1].set_xlabel(\"Predicted Customer Lifetime Value\")\n",
    "axs[1].set_ylabel(\"Residual\")\n",
    "\n",
    "fig.suptitle(\"Actual vs. Prediction Value\", size = 17)\n",
    "fig.tight_layout()"
   ]
  },
  {
   "cell_type": "markdown",
   "id": "653da954",
   "metadata": {},
   "source": [
    "Grafik ini menunjukkan regresi linier antara nilai aktual dan nilai prediksi dengan garis regresi yang membantu memahami hubungan antara keduanya."
   ]
  },
  {
   "cell_type": "code",
   "execution_count": 40,
   "id": "e990dd13",
   "metadata": {},
   "outputs": [
    {
     "data": {
      "text/html": [
       "<div>\n",
       "<style scoped>\n",
       "    .dataframe tbody tr th:only-of-type {\n",
       "        vertical-align: middle;\n",
       "    }\n",
       "\n",
       "    .dataframe tbody tr th {\n",
       "        vertical-align: top;\n",
       "    }\n",
       "\n",
       "    .dataframe thead th {\n",
       "        text-align: right;\n",
       "    }\n",
       "</style>\n",
       "<table border=\"1\" class=\"dataframe\">\n",
       "  <thead>\n",
       "    <tr style=\"text-align: right;\">\n",
       "      <th></th>\n",
       "      <th>y_test</th>\n",
       "      <th>y_pred</th>\n",
       "      <th>Residual</th>\n",
       "    </tr>\n",
       "  </thead>\n",
       "  <tbody>\n",
       "    <tr>\n",
       "      <th>4103</th>\n",
       "      <td>3857.947176</td>\n",
       "      <td>4343.212185</td>\n",
       "      <td>485.265009</td>\n",
       "    </tr>\n",
       "    <tr>\n",
       "      <th>3006</th>\n",
       "      <td>5085.023369</td>\n",
       "      <td>5426.582930</td>\n",
       "      <td>341.559561</td>\n",
       "    </tr>\n",
       "    <tr>\n",
       "      <th>3897</th>\n",
       "      <td>8071.334962</td>\n",
       "      <td>8149.556333</td>\n",
       "      <td>78.221371</td>\n",
       "    </tr>\n",
       "    <tr>\n",
       "      <th>3917</th>\n",
       "      <td>8661.735884</td>\n",
       "      <td>8602.450029</td>\n",
       "      <td>-59.285855</td>\n",
       "    </tr>\n",
       "    <tr>\n",
       "      <th>357</th>\n",
       "      <td>9566.839884</td>\n",
       "      <td>10250.991299</td>\n",
       "      <td>684.151415</td>\n",
       "    </tr>\n",
       "    <tr>\n",
       "      <th>...</th>\n",
       "      <td>...</td>\n",
       "      <td>...</td>\n",
       "      <td>...</td>\n",
       "    </tr>\n",
       "    <tr>\n",
       "      <th>3930</th>\n",
       "      <td>12689.428040</td>\n",
       "      <td>12182.906769</td>\n",
       "      <td>-506.521271</td>\n",
       "    </tr>\n",
       "    <tr>\n",
       "      <th>112</th>\n",
       "      <td>4620.390087</td>\n",
       "      <td>4630.906096</td>\n",
       "      <td>10.516009</td>\n",
       "    </tr>\n",
       "    <tr>\n",
       "      <th>3682</th>\n",
       "      <td>14886.706020</td>\n",
       "      <td>14253.198749</td>\n",
       "      <td>-633.507271</td>\n",
       "    </tr>\n",
       "    <tr>\n",
       "      <th>4411</th>\n",
       "      <td>2554.189234</td>\n",
       "      <td>2642.133835</td>\n",
       "      <td>87.944601</td>\n",
       "    </tr>\n",
       "    <tr>\n",
       "      <th>281</th>\n",
       "      <td>5441.420130</td>\n",
       "      <td>5311.537640</td>\n",
       "      <td>-129.882490</td>\n",
       "    </tr>\n",
       "  </tbody>\n",
       "</table>\n",
       "<p>921 rows × 3 columns</p>\n",
       "</div>"
      ],
      "text/plain": [
       "            y_test        y_pred    Residual\n",
       "4103   3857.947176   4343.212185  485.265009\n",
       "3006   5085.023369   5426.582930  341.559561\n",
       "3897   8071.334962   8149.556333   78.221371\n",
       "3917   8661.735884   8602.450029  -59.285855\n",
       "357    9566.839884  10250.991299  684.151415\n",
       "...            ...           ...         ...\n",
       "3930  12689.428040  12182.906769 -506.521271\n",
       "112    4620.390087   4630.906096   10.516009\n",
       "3682  14886.706020  14253.198749 -633.507271\n",
       "4411   2554.189234   2642.133835   87.944601\n",
       "281    5441.420130   5311.537640 -129.882490\n",
       "\n",
       "[921 rows x 3 columns]"
      ]
     },
     "execution_count": 40,
     "metadata": {},
     "output_type": "execute_result"
    }
   ],
   "source": [
    "residual = pd.DataFrame({'y_test' : y_test,\n",
    "              'y_pred': y_pred_gbr_tuning,\n",
    "              'Residual' : (y_pred_gbr_tuning- y_test)\n",
    "})\n",
    "residual"
   ]
  },
  {
   "cell_type": "code",
   "execution_count": 44,
   "id": "7fea1c4f",
   "metadata": {},
   "outputs": [
    {
     "data": {
      "text/html": [
       "<div>\n",
       "<style scoped>\n",
       "    .dataframe tbody tr th:only-of-type {\n",
       "        vertical-align: middle;\n",
       "    }\n",
       "\n",
       "    .dataframe tbody tr th {\n",
       "        vertical-align: top;\n",
       "    }\n",
       "\n",
       "    .dataframe thead th {\n",
       "        text-align: right;\n",
       "    }\n",
       "</style>\n",
       "<table border=\"1\" class=\"dataframe\">\n",
       "  <thead>\n",
       "    <tr style=\"text-align: right;\">\n",
       "      <th></th>\n",
       "      <th>Jumlah Data</th>\n",
       "      <th>Total Bias</th>\n",
       "    </tr>\n",
       "  </thead>\n",
       "  <tbody>\n",
       "    <tr>\n",
       "      <th>Di atas 2000</th>\n",
       "      <td>23.0</td>\n",
       "      <td>95470.13</td>\n",
       "    </tr>\n",
       "    <tr>\n",
       "      <th>Di bawah -2000</th>\n",
       "      <td>11.0</td>\n",
       "      <td>26305.82</td>\n",
       "    </tr>\n",
       "    <tr>\n",
       "      <th>Total</th>\n",
       "      <td>34.0</td>\n",
       "      <td>121775.95</td>\n",
       "    </tr>\n",
       "    <tr>\n",
       "      <th>Rata-rata</th>\n",
       "      <td>17.0</td>\n",
       "      <td>60887.97</td>\n",
       "    </tr>\n",
       "  </tbody>\n",
       "</table>\n",
       "</div>"
      ],
      "text/plain": [
       "                Jumlah Data  Total Bias\n",
       "Di atas 2000           23.0    95470.13\n",
       "Di bawah -2000         11.0    26305.82\n",
       "Total                  34.0   121775.95\n",
       "Rata-rata              17.0    60887.97"
      ]
     },
     "execution_count": 44,
     "metadata": {},
     "output_type": "execute_result"
    }
   ],
   "source": [
    "residuals = y_test - y_pred_gbr_tuning\n",
    "# Menghitung jumlah dan total bias di atas 2000 dan di bawah -2000\n",
    "count_above_2000 = sum(residual > 2000 for residual in residuals)\n",
    "sum_above_2000 = sum(residual for residual in residuals if residual > 2000)\n",
    "count_below_minus_2000 = sum(residual < -2000 for residual in residuals)\n",
    "sum_below_minus_2000 = sum(residual for residual in residuals if residual < -2000)\n",
    "\n",
    "# Mengubah nilai bias negatif menjadi positif\n",
    "sum_above_2000 = abs(sum_above_2000)\n",
    "sum_below_minus_2000 = abs(sum_below_minus_2000)\n",
    "\n",
    "# Membuat DataFrame\n",
    "data = {'Jumlah Data': [count_above_2000, count_below_minus_2000],\n",
    "        'Total Bias': [sum_above_2000, sum_below_minus_2000]}\n",
    "index = ['Di atas 2000', 'Di bawah -2000']\n",
    "df_bias = pd.DataFrame(data, index=index)\n",
    "\n",
    "# Menambahkan sum jumlah total data dan total bias\n",
    "df_bias.loc['Total'] = df_bias.sum()\n",
    "\n",
    "# Menghitung rata-rata dari jumlah data dan total bias\n",
    "mean_data = df_bias.loc[['Di atas 2000', 'Di bawah -2000'], 'Jumlah Data'].mean()\n",
    "mean_bias = df_bias.loc[['Di atas 2000', 'Di bawah -2000'], 'Total Bias'].mean()\n",
    "\n",
    "# Menambahkan baris rata-rata\n",
    "df_bias.loc['Rata-rata'] = [mean_data, mean_bias]\n",
    "\n",
    "# Memformat angka menjadi dua angka di belakang koma\n",
    "df_bias = df_bias.round(2)\n",
    "\n",
    "df_bias"
   ]
  },
  {
   "cell_type": "markdown",
   "id": "49759783",
   "metadata": {},
   "source": [
    "Jumlah data < -2000 atau > 2000  data bias yang sangat jauh dari hasil prediksi\n",
    "\n",
    "\n",
    "**kesimpulan :** \n",
    "- Performa model untuk memprediksi mulai menurun ketika CLV di angka 8.000 ke atas, walapun seperti itu sebagian besar model telah berhasil membuat prediksi yang mendekati nilai CLV"
   ]
  },
  {
   "cell_type": "code",
   "execution_count": 45,
   "id": "cb576c7d",
   "metadata": {},
   "outputs": [
    {
     "data": {
      "image/png": "[encoded data removed]",
      "text/plain": [
       "<Figure size 640x480 with 1 Axes>"
      ]
     },
     "metadata": {},
     "output_type": "display_data"
    }
   ],
   "source": [
    "# Membuat dataframe feature importance\n",
    "feature_imp = pd.DataFrame()\n",
    "feature_imp['feature'] = random_gbr.best_estimator_.named_steps['prep'].get_feature_names_out()\n",
    "feature_imp['score'] = gbr_tuning['model'].feature_importances_\n",
    "feature_imp.iloc[:,0] = feature_imp.iloc[:,0].str.replace(pat=r'[A-Za-z]*__', repl='', regex=True)\n",
    "feature_imp = feature_imp.set_index('feature')\n",
    "\n",
    "# menampilkan 5 terbaik dengan warna dan gaya plot yang berbeda\n",
    "top_features = feature_imp.sort_values('score', ascending=True).tail(5)\n",
    "colors = ['skyblue', 'lightgreen', 'lightcoral', 'lightsalmon', 'lightseagreen']\n",
    "top_features.plot(kind='barh', color=colors, edgecolor='black')\n",
    "for index, value in enumerate(top_features['score']):\n",
    "    plt.text(value, index, f'{value:.2f}', ha='center', va='center', color='black', fontweight='bold')\n",
    "\n",
    "plt.title('Top 5 Important Features')\n",
    "plt.xlabel('Feature Importance Score')\n",
    "plt.ylabel('Feature')\n",
    "plt.show()\n"
   ]
  },
  {
   "cell_type": "markdown",
   "id": "a7b3a1be",
   "metadata": {},
   "source": [
    "- Fitur yang paling mempengaruhi CLV adalah 'Number of Policies', 'Monthly Premium Auto', dan 'Vehicle Class'."
   ]
  },
  {
   "cell_type": "markdown",
   "id": "8dbb6ccc",
   "metadata": {},
   "source": [
    "# 5. Conclusion"
   ]
  },
  {
   "cell_type": "markdown",
   "id": "dda187b4",
   "metadata": {},
   "source": [
    "# Conclusion for Model"
   ]
  },
  {
   "cell_type": "markdown",
   "id": "bb74fa4b",
   "metadata": {},
   "source": [
    "**Metrik Evaluasi**\n",
    "\n",
    "Metrik Evaluasi yang dipilih dalam model ini adalah `RMSE (Root Mean Square Error),MAE (Mean Absolute Error), dan MAPE (Mean Absolute Percentage Error)`. Alasannya adalah :\n",
    "\n",
    "- RMSE: Memberikan informasi tentang sejauh mana perbedaan antara prediksi dan nilai sebenarnya. \n",
    "\n",
    "- MAE: Memberikan ukuran rata-rata dari selisih absolut antara prediksi dan nilai sebenarnya. Penurunan MAE menunjukkan kesalahan prediksi yang lebih rendah setelah tuning.\n",
    "\n",
    "- MAPE: Memberikan ukuran persentase dari kesalahan rata-rata. Penurunan MAPE menjadi nilai yang sangat rendah menunjukkan model dapat memprediksi CLV dengan akurasi tinggi setelah tuning.\n",
    "\n",
    "**Model Benchmarking**\n",
    "- 2 model terbaik dari Model Benchmarking menggunakan Cross Validation yaitu :\n",
    " - `Gradient Boosting Regressor` dengan nilai RMSE: `848.4946851`\n",
    " - `Random Forest Regression` dengan nilai RMSE: `934.167601`\n",
    "\n",
    "- Maka kedua model ini dicoba untuk melakukan prediksi terhadap data test, maka hasilnya adalah model `Gradient Boosting Regressor dengan RMSE tertinggi yaitu 848.4946851` maka kita ambil Gradient Boosting Regressor untuk dilakukan Hyperparameter Tuning untuk menemukan score terbaik dengan mencoba berbagai kombinasi parameter menggunakan RandomizedSearchCV. <br>\n",
    "\n",
    "**Hyperparameter Tuning**\n",
    "- Setelah melakukan Hyperparameter tuning didapati hasil parameter terbaiknya dalah :<br>\n",
    "` 'model__subsample': 0.8`,<br>\n",
    "` 'model__n_estimators': 200`,<br>\n",
    "` 'model__max_features': 0.7`,<br>\n",
    "` 'model__max_depth': 3`,<br>\n",
    "` 'model__learning_rate': 0.05`,<br>\n",
    "` 'Scaler': StandardScaler()` <br>\n",
    "\n",
    "- Hasil Hyperparameter Tuning:\n",
    "\n",
    "* Setelah melakukan hyperparameter tuning pada model Gradient Boosting Regressor, terjadi peningkatan kinerja model dalam beberapa metrik evaluasi. Terlihat bahwa nilai RMSE menurun dari sekitar 848.49 menjadi 846.27, yang menunjukkan bahwa model dapat lebih akurat dalam memprediksi nilai Customer Lifetime Value (CLV) setelah tuning.\n",
    "* MAE juga mengalami penurunan yang signifikan dari sekitar 848.49 menjadi 367.02, menandakan bahwa model cenderung memiliki kesalahan prediksi yang lebih rendah setelah tuning.\n",
    "* MAPE menurun drastis dari 848.49 menjadi 0.048649. MAPE yang lebih rendah mengindikasikan bahwa persentase kesalahan relatif terhadap nilai aktual menjadi lebih kecil setelah tuning.Jika ditinjau dari nilai MAPE yang dihasilkan oleh model setelah dilakukan hyperparameter tuning, yaitu sebesar 4%, kita dapat menyimpulkan bahwa bila nanti model yang kita buat ini digunakan untuk memperkirakan CLV pada rentang nilai seperti yang dilatih terhadap model, maka perkiraan harganya rata-rata akan meleset kurang lebih sebesar 4% dari CLV yang seharusnya. \n",
    "* Tapi, tidak menutup kemungkinan juga prediksinya meleset jauh karena bias yang dihasilkan model masih cukup tinggi. Bila dilihat dari visualisasi antara CLV aktual dan prediksi serta residual performa prediksi model mulai menurun ketika CLV sekitar 8.000 keatas. Bias yang dihasilkan oleh model ini dikarenakan oleh terbatasnya fitur pada dataset dan model butuh lebih banyak data customer lagi untuk model di maintance kedepannya menjadi lebih baik dan agar bias yang dihasilkan tidak teralu jauh dari hasil prediksi.\n",
    "\n",
    "**Feature Importance**\n",
    "- Fitur yang paling berpengaruh dalam model ini adalah: <br>\n",
    "`Number of Policies dengan coeffisien 0.65` <br>\n",
    "`Monthly Premium Auto dengan coeffisien 0.3`.<br>\n",
    "\n",
    "**Limitasi**\n",
    "- Limitasi dari Model ini adalah hanya bisa memprediksi akurat untuk : <br>\n",
    "`nilai CLV dibawah 16624.750.` <br>\n",
    "`nilai Total Claim Amount dibawah 992.64.` <br>\n"
   ]
  },
  {
   "cell_type": "markdown",
   "id": "8694906a",
   "metadata": {},
   "source": [
    "# Conclusion for Business"
   ]
  },
  {
   "cell_type": "markdown",
   "id": "74b9d612",
   "metadata": {},
   "source": [
    "- Dari pemodelan yang sudah dilakukan, perusahaan memiliki model untuk memprediksi nilai Customer Lifetime Value, maka model ini dapat membantu bussiness problem mengenai perhitungan biaya maksimal untuk akuisisi customer. Perusahaan dapat mengatur agar biaya akuisisi tidak sampai melebihi CLV atau sebisa mungkin jauh lebih rendah dibanding CLV agar perusahaan mendapat profit maksimal. \n",
    "<br>\n",
    "\n",
    "- Karena fitur \"Number of Policies\" memiliki pengaruh paling besar pada model, Perusahaan dapat fokus pada strategi untuk meningkatkan jumlah polis asuransi yang dimiliki oleh pelanggan seperti bisa melibatkan penawaran khusus, program loyalitas, atau kampanye pemasaran yang bertujuan untuk meningkatkan jumlah polis asuransi. \n",
    "<br>\n",
    "\n",
    "- Karena fitur \"Monthly Premium Auto\" memiliki pengaruh yang cukup besar pada model. Perusahaan dapat mengevaluasi penetapan harga dan promosi untuk harga premi bulanan, hal ini mempunyai peluang untuk mengoptimalkan keuntungan perusahaan dari nilai premi bulanan. <br>"
   ]
  },
  {
   "cell_type": "markdown",
   "id": "167eeaa6",
   "metadata": {},
   "source": [
    "# 6. Recommendation\n"
   ]
  },
  {
   "cell_type": "markdown",
   "id": "267e2967",
   "metadata": {},
   "source": [
    "**Recommandation for Model :**\n",
    "\n",
    "- Untuk meningkatkan akurasi prediksi CLV, perlu dilakukan analisis terhadap prediksi yang memiliki error tinggi baik itu overestimate maupun underestimate sehingga dapat mengetahui fitur-fitur apa saja yang menyebabkan error tinggi.\n",
    "\n",
    "- Menambahkan variabel-variabel terkait dengan fitur-fitur prediksi Customer Lifetime Value (CLV) seperti `Age`,\n",
    "`Years of Driving Experience`, `Number of Cars`, dan `Location`.\n",
    "\n",
    "- Menambahkan lebih banyak lagi data agar model dapat belajar dengan baik lagi.\n",
    "\n",
    "- Melakukan validasi model secara berkala. Karena dengan menggunakan data yang lebih baru untuk memastikan bahwa model tetap relevan dan memiliki performa yang baik terhadap data terkini.\n",
    "\n",
    "- Melakukan eksperimen dalam manipulasi data karena eksperimen dapat membuka peluang untuk menemukan wawasan baru, mengidentifikasi fitur-fitur penting, dan meningkatkan kemampuan model untuk mengatasi variasi dalam data.\n",
    "\n",
    "- Melakukan eksperimen menggunakan model machine learning lainnya karena melakukan pengujian berbagai model machine learning dapat membantu menemukan model yang paling sesuai dengan data.\n",
    "\n",
    "- Melakukan eksperimen hyperparameter tuning lainnya agar mendapatkan hyperparameter tuning yang lebih lanjut dapat membantu menemukan konfigurasi parameter terbaik yang dapat meningkatkan performa model.\n"
   ]
  },
  {
   "cell_type": "markdown",
   "id": "87a7cf5f",
   "metadata": {},
   "source": [
    "**Recommandation for Business :**\n",
    "\n",
    "1. Segmentasi Pelanggan: \n",
    "* Perusahaan dapat melakukan segmentasi pelanggan yang lebih efektif berdasarkan nilai CLV pelanggan, sehingga dapat menyusun strategi pemasaran yang tepat untuk setiap segmen. Misalnya, segmen dengan CLV 20.000 ke atas mungkin menjadi target penawaran khusus atau program loyalitas yang eksklusif.\n",
    "\n",
    "2. Melakukan Cross-Selling dan Up-Selling:\n",
    "* Perusahaan dapat menargetkan pelanggan dengan Segmentasi CLV untuk penawaran cross-selling atau up-selling. Bisa dengan perusahaan menawarkan paket asuransi tambahan dengan diskon yang menarik atau meningkatkan perlindungan asuransi kepada pelanggan yang memiliki potensi untuk meningkatkan nilai polis mereka, bisa lebih difokuskan kepada segmentasi pelanggan dengan CLV 20.000 ke bawah agar CLV populasi customer kedepannya  meningkat dari 20.000 ke bawah menjadi 20.000-60.000. Dengan ini jumlah polis customer dengan CLV 20.000 ke atas akan meningkat. Dengan meningkatnya CLV Customer maka pembayaran Premi perbulannya juga akan meningkat. Ini akan meningkatkan profit dan income perusahaan. \n",
    "\n",
    "3. Pengembangan Produk dan Layanan: \n",
    "* Perusahaan dapat menggunakan informasi prediksi CLV untuk mengembangkan produk dan layanan baru yang sesuai dengan kebutuhan pelanggan yang berharga, meningkatkan kepuasan pelanggan, dan memperkuat loyalitas mereka. Perusahaan dapat meluncurkan polis asuransi khusus untuk segmen pelanggan dengan CLV 20.000 ke atas dengan manfaat tambahan seperti perlindungan hukum atau asuransi penyewaan mobil. \n",
    "\n",
    "4. Pengelolaan Biaya Akuisisi Pelanggan :\n",
    "* Dengan mengetahui CLV, perusahaan dapat menghitung kembali keseimbangan antara biaya akuisisi dan nilai jangka panjang yang diharapkan dari pelanggan. Ini dapat membantu perusahaan dalam mengoptimalkan pengeluaran pemasaran dan mengalokasikan sumber daya dengan lebih efisien. \n",
    "\n",
    "5. Retensi Pelanggan:\n",
    "* Perusahaan dapat memfokuskan upaya retensi pada pelanggan dengan CLV 20000 ke atas atau tinggi. Ini bisa dilakukan dengan memberikan pelayanan pelanggan yang baik, penawaran khusus, atau program loyalitas yang dirancang untuk mempertahankan pelanggan berharga.\n",
    "\n",
    "\n",
    "Secara keseluruhan, dengan kemampuan memprediksi CLV, perusahaan asuransi mobil dapat mengoptimalkan strategi pemasaran, meningkatkan retensi pelanggan, meningkatkan penjualan produk, mengelola biaya akuisisi pelanggan, dan mengembangkan produk dan layanan yang lebih baik. Hal ini dapat berdampak positif pada keuntungan jangka panjang perusahaan, meningkatkan pertumbuhan bisnis, dan memperkuat posisi persaingan di industri asuransi mobil."
   ]
  },
  {
   "cell_type": "markdown",
   "id": "a0598cce",
   "metadata": {},
   "source": [
    "**SAVE MODEL**"
   ]
  },
  {
   "cell_type": "code",
   "execution_count": null,
   "id": "4f05bc86",
   "metadata": {},
   "outputs": [],
   "source": [
    "#import pickle\n",
    "\n",
    "#model_clv = random_gbr.best_estimator_\n",
    "#model_clv.fit(Feature, Target)\n",
    "\n",
    " # save with pickle\n",
    "#pickle.dump(model_clv, open('Best_Model_CLV_GBR.sav', 'wb'))"
   ]
  },
  {
   "cell_type": "code",
   "execution_count": null,
   "id": "accca1e4",
   "metadata": {},
   "outputs": [],
   "source": [
    "# Load model\n",
    "#filename = 'Best_Model_CLV_GBR.sav'\n",
    "#loaded_model = pickle.load(open(filename, 'rb'))"
   ]
  },
  {
   "cell_type": "code",
   "execution_count": null,
   "id": "33371d6f",
   "metadata": {},
   "outputs": [],
   "source": [
    "# Predict with loaded model\n",
    "#np.sqrt(mean_squared_error(Target, loaded_model.predict(Feature)))"
   ]
  },
  {
   "cell_type": "code",
   "execution_count": null,
   "id": "25a55ce0",
   "metadata": {},
   "outputs": [],
   "source": []
  }
 ],
 "metadata": {
  "kernelspec": {
   "display_name": "Python 3 (ipykernel)",
   "language": "python",
   "name": "python3"
  },
  "language_info": {
   "codemirror_mode": {
    "name": "ipython",
    "version": 3
   },
   "file_extension": ".py",
   "mimetype": "text/x-python",
   "name": "python",
   "nbconvert_exporter": "python",
   "pygments_lexer": "ipython3",
   "version": "3.11.5"
  }
 },
 "nbformat": 4,
 "nbformat_minor": 5
}
